{
 "cells": [
  {
   "cell_type": "markdown",
   "metadata": {},
   "source": [
    "## HELP International  case study - Hierarchical Clustering and Principal Component analysis"
   ]
  },
  {
   "cell_type": "code",
   "execution_count": 1,
   "metadata": {},
   "outputs": [],
   "source": [
    "#Importing Libraries\n",
    "import pandas as pd\n",
    "import numpy as np\n",
    "\n",
    "# For Visualisation\n",
    "import matplotlib.pyplot as plt\n",
    "import seaborn as sns\n",
    "%matplotlib inline\n",
    "\n",
    "# To Scale our data , derive PCA and incremental PCA\n",
    "from sklearn.preprocessing import scale\n",
    "from sklearn import preprocessing\n",
    "from sklearn.decomposition import PCA\n",
    "from sklearn.decomposition import IncrementalPCA\n",
    "\n",
    "\n",
    "# To perform KMeans clustering \n",
    "from sklearn.cluster import KMeans\n",
    "\n",
    "# To perform Hierarchical clustering\n",
    "from scipy.cluster.hierarchy import linkage\n",
    "from scipy.cluster.hierarchy import dendrogram\n",
    "from scipy.cluster.hierarchy import cut_tree\n",
    "\n",
    "from datetime import datetime\n",
    "import warnings\n",
    "warnings.filterwarnings('ignore')"
   ]
  },
  {
   "cell_type": "code",
   "execution_count": 2,
   "metadata": {},
   "outputs": [
    {
     "name": "stdout",
     "output_type": "stream",
     "text": [
      "2019-02-23 19:31:30.459723\n"
     ]
    }
   ],
   "source": [
    "# Mark the start timestamp of code execution\n",
    "startTime = datetime.now()\n",
    "\n",
    "print(startTime)"
   ]
  },
  {
   "cell_type": "markdown",
   "metadata": {},
   "source": [
    "#### 1)  Import file , Change country case, remove spaces if any and perform duplicate check , get the file ready for analysis"
   ]
  },
  {
   "cell_type": "code",
   "execution_count": 3,
   "metadata": {},
   "outputs": [],
   "source": [
    "#reading Dataset\n",
    "ngo = pd.read_csv(\"Country-data.csv\",  sep = ',',encoding = \"ISO-8859-1\", header= 0)\n",
    "\n",
    "# parse date\n",
    "# retail['InvoiceDate'] = pd.to_datetime(retail['InvoiceDate'], format = \"%d-%m-%Y %H:%M\")"
   ]
  },
  {
   "cell_type": "code",
   "execution_count": 4,
   "metadata": {},
   "outputs": [
    {
     "data": {
      "text/html": [
       "<div>\n",
       "<style scoped>\n",
       "    .dataframe tbody tr th:only-of-type {\n",
       "        vertical-align: middle;\n",
       "    }\n",
       "\n",
       "    .dataframe tbody tr th {\n",
       "        vertical-align: top;\n",
       "    }\n",
       "\n",
       "    .dataframe thead th {\n",
       "        text-align: right;\n",
       "    }\n",
       "</style>\n",
       "<table border=\"1\" class=\"dataframe\">\n",
       "  <thead>\n",
       "    <tr style=\"text-align: right;\">\n",
       "      <th></th>\n",
       "      <th>country</th>\n",
       "      <th>child_mort</th>\n",
       "      <th>exports</th>\n",
       "      <th>health</th>\n",
       "      <th>imports</th>\n",
       "      <th>income</th>\n",
       "      <th>inflation</th>\n",
       "      <th>life_expec</th>\n",
       "      <th>total_fer</th>\n",
       "      <th>gdpp</th>\n",
       "    </tr>\n",
       "  </thead>\n",
       "  <tbody>\n",
       "    <tr>\n",
       "      <th>0</th>\n",
       "      <td>Afghanistan</td>\n",
       "      <td>90.2</td>\n",
       "      <td>10.0</td>\n",
       "      <td>7.58</td>\n",
       "      <td>44.9</td>\n",
       "      <td>1610</td>\n",
       "      <td>9.44</td>\n",
       "      <td>56.2</td>\n",
       "      <td>5.82</td>\n",
       "      <td>553</td>\n",
       "    </tr>\n",
       "    <tr>\n",
       "      <th>1</th>\n",
       "      <td>Albania</td>\n",
       "      <td>16.6</td>\n",
       "      <td>28.0</td>\n",
       "      <td>6.55</td>\n",
       "      <td>48.6</td>\n",
       "      <td>9930</td>\n",
       "      <td>4.49</td>\n",
       "      <td>76.3</td>\n",
       "      <td>1.65</td>\n",
       "      <td>4090</td>\n",
       "    </tr>\n",
       "  </tbody>\n",
       "</table>\n",
       "</div>"
      ],
      "text/plain": [
       "       country  child_mort  exports  health  imports  income  inflation  \\\n",
       "0  Afghanistan        90.2     10.0    7.58     44.9    1610       9.44   \n",
       "1      Albania        16.6     28.0    6.55     48.6    9930       4.49   \n",
       "\n",
       "   life_expec  total_fer  gdpp  \n",
       "0        56.2       5.82   553  \n",
       "1        76.3       1.65  4090  "
      ]
     },
     "execution_count": 4,
     "metadata": {},
     "output_type": "execute_result"
    }
   ],
   "source": [
    "ngo.head(2)"
   ]
  },
  {
   "cell_type": "markdown",
   "metadata": {},
   "source": [
    "##### Capitalize and remove any spaces in the Country before checking for duplicate rows"
   ]
  },
  {
   "cell_type": "code",
   "execution_count": 5,
   "metadata": {},
   "outputs": [],
   "source": [
    "ngo['country'] = ngo['country'].str.upper()\n",
    "ngo['country'] = ngo['country'].str.strip()"
   ]
  },
  {
   "cell_type": "code",
   "execution_count": 6,
   "metadata": {},
   "outputs": [
    {
     "data": {
      "text/html": [
       "<div>\n",
       "<style scoped>\n",
       "    .dataframe tbody tr th:only-of-type {\n",
       "        vertical-align: middle;\n",
       "    }\n",
       "\n",
       "    .dataframe tbody tr th {\n",
       "        vertical-align: top;\n",
       "    }\n",
       "\n",
       "    .dataframe thead th {\n",
       "        text-align: right;\n",
       "    }\n",
       "</style>\n",
       "<table border=\"1\" class=\"dataframe\">\n",
       "  <thead>\n",
       "    <tr style=\"text-align: right;\">\n",
       "      <th></th>\n",
       "      <th>country</th>\n",
       "      <th>child_mort</th>\n",
       "      <th>exports</th>\n",
       "      <th>health</th>\n",
       "      <th>imports</th>\n",
       "      <th>income</th>\n",
       "      <th>inflation</th>\n",
       "      <th>life_expec</th>\n",
       "      <th>total_fer</th>\n",
       "      <th>gdpp</th>\n",
       "    </tr>\n",
       "  </thead>\n",
       "  <tbody>\n",
       "    <tr>\n",
       "      <th>0</th>\n",
       "      <td>AFGHANISTAN</td>\n",
       "      <td>90.2</td>\n",
       "      <td>10.0</td>\n",
       "      <td>7.58</td>\n",
       "      <td>44.9</td>\n",
       "      <td>1610</td>\n",
       "      <td>9.44</td>\n",
       "      <td>56.2</td>\n",
       "      <td>5.82</td>\n",
       "      <td>553</td>\n",
       "    </tr>\n",
       "    <tr>\n",
       "      <th>1</th>\n",
       "      <td>ALBANIA</td>\n",
       "      <td>16.6</td>\n",
       "      <td>28.0</td>\n",
       "      <td>6.55</td>\n",
       "      <td>48.6</td>\n",
       "      <td>9930</td>\n",
       "      <td>4.49</td>\n",
       "      <td>76.3</td>\n",
       "      <td>1.65</td>\n",
       "      <td>4090</td>\n",
       "    </tr>\n",
       "  </tbody>\n",
       "</table>\n",
       "</div>"
      ],
      "text/plain": [
       "       country  child_mort  exports  health  imports  income  inflation  \\\n",
       "0  AFGHANISTAN        90.2     10.0    7.58     44.9    1610       9.44   \n",
       "1      ALBANIA        16.6     28.0    6.55     48.6    9930       4.49   \n",
       "\n",
       "   life_expec  total_fer  gdpp  \n",
       "0        56.2       5.82   553  \n",
       "1        76.3       1.65  4090  "
      ]
     },
     "execution_count": 6,
     "metadata": {},
     "output_type": "execute_result"
    }
   ],
   "source": [
    "ngo.head(2)"
   ]
  },
  {
   "cell_type": "markdown",
   "metadata": {},
   "source": [
    "##### Check for duplicates now"
   ]
  },
  {
   "cell_type": "code",
   "execution_count": 7,
   "metadata": {},
   "outputs": [
    {
     "name": "stdout",
     "output_type": "stream",
     "text": [
      "(Rows, Columns) of dataset before dropping duplicates is : (167, 10)\n",
      "(Rows, Columns) of dataset after dropping duplicates is : (167, 10)\n"
     ]
    },
    {
     "data": {
      "text/html": [
       "<div>\n",
       "<style scoped>\n",
       "    .dataframe tbody tr th:only-of-type {\n",
       "        vertical-align: middle;\n",
       "    }\n",
       "\n",
       "    .dataframe tbody tr th {\n",
       "        vertical-align: top;\n",
       "    }\n",
       "\n",
       "    .dataframe thead th {\n",
       "        text-align: right;\n",
       "    }\n",
       "</style>\n",
       "<table border=\"1\" class=\"dataframe\">\n",
       "  <thead>\n",
       "    <tr style=\"text-align: right;\">\n",
       "      <th></th>\n",
       "      <th>country</th>\n",
       "      <th>child_mort</th>\n",
       "      <th>exports</th>\n",
       "      <th>health</th>\n",
       "      <th>imports</th>\n",
       "      <th>income</th>\n",
       "      <th>inflation</th>\n",
       "      <th>life_expec</th>\n",
       "      <th>total_fer</th>\n",
       "      <th>gdpp</th>\n",
       "    </tr>\n",
       "  </thead>\n",
       "  <tbody>\n",
       "    <tr>\n",
       "      <th>0</th>\n",
       "      <td>AFGHANISTAN</td>\n",
       "      <td>90.2</td>\n",
       "      <td>10.0</td>\n",
       "      <td>7.58</td>\n",
       "      <td>44.9</td>\n",
       "      <td>1610</td>\n",
       "      <td>9.44</td>\n",
       "      <td>56.2</td>\n",
       "      <td>5.82</td>\n",
       "      <td>553</td>\n",
       "    </tr>\n",
       "    <tr>\n",
       "      <th>1</th>\n",
       "      <td>ALBANIA</td>\n",
       "      <td>16.6</td>\n",
       "      <td>28.0</td>\n",
       "      <td>6.55</td>\n",
       "      <td>48.6</td>\n",
       "      <td>9930</td>\n",
       "      <td>4.49</td>\n",
       "      <td>76.3</td>\n",
       "      <td>1.65</td>\n",
       "      <td>4090</td>\n",
       "    </tr>\n",
       "  </tbody>\n",
       "</table>\n",
       "</div>"
      ],
      "text/plain": [
       "       country  child_mort  exports  health  imports  income  inflation  \\\n",
       "0  AFGHANISTAN        90.2     10.0    7.58     44.9    1610       9.44   \n",
       "1      ALBANIA        16.6     28.0    6.55     48.6    9930       4.49   \n",
       "\n",
       "   life_expec  total_fer  gdpp  \n",
       "0        56.2       5.82   553  \n",
       "1        76.3       1.65  4090  "
      ]
     },
     "execution_count": 7,
     "metadata": {},
     "output_type": "execute_result"
    }
   ],
   "source": [
    "print(\"(Rows, Columns) of dataset before dropping duplicates is :\", format(ngo.shape))\n",
    "ngo = ngo.drop_duplicates('country')\n",
    "print(\"(Rows, Columns) of dataset after dropping duplicates is :\", format(ngo.shape))\n",
    "ngo.set_index('country')\n",
    "\n",
    "ngo.head(2)"
   ]
  },
  {
   "cell_type": "markdown",
   "metadata": {},
   "source": [
    "##### there are No duplicate rows"
   ]
  },
  {
   "cell_type": "markdown",
   "metadata": {},
   "source": [
    "##### Check for NULL values in the dataset"
   ]
  },
  {
   "cell_type": "code",
   "execution_count": 8,
   "metadata": {},
   "outputs": [
    {
     "name": "stdout",
     "output_type": "stream",
     "text": [
      "Column information : \n",
      "<class 'pandas.core.frame.DataFrame'>\n",
      "Int64Index: 167 entries, 0 to 166\n",
      "Data columns (total 10 columns):\n",
      "country       167 non-null object\n",
      "child_mort    167 non-null float64\n",
      "exports       167 non-null float64\n",
      "health        167 non-null float64\n",
      "imports       167 non-null float64\n",
      "income        167 non-null int64\n",
      "inflation     167 non-null float64\n",
      "life_expec    167 non-null float64\n",
      "total_fer     167 non-null float64\n",
      "gdpp          167 non-null int64\n",
      "dtypes: float64(7), int64(2), object(1)\n",
      "memory usage: 14.4+ KB\n"
     ]
    }
   ],
   "source": [
    "print(\"Column information : \")\n",
    "ngo.info()"
   ]
  },
  {
   "cell_type": "code",
   "execution_count": 9,
   "metadata": {},
   "outputs": [
    {
     "data": {
      "text/plain": [
       "country       0.0\n",
       "child_mort    0.0\n",
       "exports       0.0\n",
       "health        0.0\n",
       "imports       0.0\n",
       "income        0.0\n",
       "inflation     0.0\n",
       "life_expec    0.0\n",
       "total_fer     0.0\n",
       "gdpp          0.0\n",
       "dtype: float64"
      ]
     },
     "execution_count": 9,
     "metadata": {},
     "output_type": "execute_result"
    }
   ],
   "source": [
    "round(100*(ngo.isnull().sum()/len(ngo.index)), 2)"
   ]
  },
  {
   "cell_type": "markdown",
   "metadata": {},
   "source": [
    "`No null values to be cleaned` as seen above"
   ]
  },
  {
   "cell_type": "code",
   "execution_count": 10,
   "metadata": {},
   "outputs": [
    {
     "data": {
      "text/html": [
       "<div>\n",
       "<style scoped>\n",
       "    .dataframe tbody tr th:only-of-type {\n",
       "        vertical-align: middle;\n",
       "    }\n",
       "\n",
       "    .dataframe tbody tr th {\n",
       "        vertical-align: top;\n",
       "    }\n",
       "\n",
       "    .dataframe thead th {\n",
       "        text-align: right;\n",
       "    }\n",
       "</style>\n",
       "<table border=\"1\" class=\"dataframe\">\n",
       "  <thead>\n",
       "    <tr style=\"text-align: right;\">\n",
       "      <th></th>\n",
       "      <th>child_mort</th>\n",
       "      <th>exports</th>\n",
       "      <th>health</th>\n",
       "      <th>imports</th>\n",
       "      <th>income</th>\n",
       "      <th>inflation</th>\n",
       "      <th>life_expec</th>\n",
       "      <th>total_fer</th>\n",
       "      <th>gdpp</th>\n",
       "    </tr>\n",
       "  </thead>\n",
       "  <tbody>\n",
       "    <tr>\n",
       "      <th>count</th>\n",
       "      <td>167.000000</td>\n",
       "      <td>167.000000</td>\n",
       "      <td>167.000000</td>\n",
       "      <td>167.000000</td>\n",
       "      <td>167.000000</td>\n",
       "      <td>167.000000</td>\n",
       "      <td>167.000000</td>\n",
       "      <td>167.000000</td>\n",
       "      <td>167.000000</td>\n",
       "    </tr>\n",
       "    <tr>\n",
       "      <th>mean</th>\n",
       "      <td>38.270060</td>\n",
       "      <td>41.108976</td>\n",
       "      <td>6.815689</td>\n",
       "      <td>46.890215</td>\n",
       "      <td>17144.688623</td>\n",
       "      <td>7.781832</td>\n",
       "      <td>70.555689</td>\n",
       "      <td>2.947964</td>\n",
       "      <td>12964.155689</td>\n",
       "    </tr>\n",
       "    <tr>\n",
       "      <th>std</th>\n",
       "      <td>40.328931</td>\n",
       "      <td>27.412010</td>\n",
       "      <td>2.746837</td>\n",
       "      <td>24.209589</td>\n",
       "      <td>19278.067698</td>\n",
       "      <td>10.570704</td>\n",
       "      <td>8.893172</td>\n",
       "      <td>1.513848</td>\n",
       "      <td>18328.704809</td>\n",
       "    </tr>\n",
       "    <tr>\n",
       "      <th>min</th>\n",
       "      <td>2.600000</td>\n",
       "      <td>0.109000</td>\n",
       "      <td>1.810000</td>\n",
       "      <td>0.065900</td>\n",
       "      <td>609.000000</td>\n",
       "      <td>-4.210000</td>\n",
       "      <td>32.100000</td>\n",
       "      <td>1.150000</td>\n",
       "      <td>231.000000</td>\n",
       "    </tr>\n",
       "    <tr>\n",
       "      <th>25%</th>\n",
       "      <td>8.250000</td>\n",
       "      <td>23.800000</td>\n",
       "      <td>4.920000</td>\n",
       "      <td>30.200000</td>\n",
       "      <td>3355.000000</td>\n",
       "      <td>1.810000</td>\n",
       "      <td>65.300000</td>\n",
       "      <td>1.795000</td>\n",
       "      <td>1330.000000</td>\n",
       "    </tr>\n",
       "    <tr>\n",
       "      <th>50%</th>\n",
       "      <td>19.300000</td>\n",
       "      <td>35.000000</td>\n",
       "      <td>6.320000</td>\n",
       "      <td>43.300000</td>\n",
       "      <td>9960.000000</td>\n",
       "      <td>5.390000</td>\n",
       "      <td>73.100000</td>\n",
       "      <td>2.410000</td>\n",
       "      <td>4660.000000</td>\n",
       "    </tr>\n",
       "    <tr>\n",
       "      <th>75%</th>\n",
       "      <td>62.100000</td>\n",
       "      <td>51.350000</td>\n",
       "      <td>8.600000</td>\n",
       "      <td>58.750000</td>\n",
       "      <td>22800.000000</td>\n",
       "      <td>10.750000</td>\n",
       "      <td>76.800000</td>\n",
       "      <td>3.880000</td>\n",
       "      <td>14050.000000</td>\n",
       "    </tr>\n",
       "    <tr>\n",
       "      <th>max</th>\n",
       "      <td>208.000000</td>\n",
       "      <td>200.000000</td>\n",
       "      <td>17.900000</td>\n",
       "      <td>174.000000</td>\n",
       "      <td>125000.000000</td>\n",
       "      <td>104.000000</td>\n",
       "      <td>82.800000</td>\n",
       "      <td>7.490000</td>\n",
       "      <td>105000.000000</td>\n",
       "    </tr>\n",
       "  </tbody>\n",
       "</table>\n",
       "</div>"
      ],
      "text/plain": [
       "       child_mort     exports      health     imports         income  \\\n",
       "count  167.000000  167.000000  167.000000  167.000000     167.000000   \n",
       "mean    38.270060   41.108976    6.815689   46.890215   17144.688623   \n",
       "std     40.328931   27.412010    2.746837   24.209589   19278.067698   \n",
       "min      2.600000    0.109000    1.810000    0.065900     609.000000   \n",
       "25%      8.250000   23.800000    4.920000   30.200000    3355.000000   \n",
       "50%     19.300000   35.000000    6.320000   43.300000    9960.000000   \n",
       "75%     62.100000   51.350000    8.600000   58.750000   22800.000000   \n",
       "max    208.000000  200.000000   17.900000  174.000000  125000.000000   \n",
       "\n",
       "        inflation  life_expec   total_fer           gdpp  \n",
       "count  167.000000  167.000000  167.000000     167.000000  \n",
       "mean     7.781832   70.555689    2.947964   12964.155689  \n",
       "std     10.570704    8.893172    1.513848   18328.704809  \n",
       "min     -4.210000   32.100000    1.150000     231.000000  \n",
       "25%      1.810000   65.300000    1.795000    1330.000000  \n",
       "50%      5.390000   73.100000    2.410000    4660.000000  \n",
       "75%     10.750000   76.800000    3.880000   14050.000000  \n",
       "max    104.000000   82.800000    7.490000  105000.000000  "
      ]
     },
     "execution_count": 10,
     "metadata": {},
     "output_type": "execute_result"
    }
   ],
   "source": [
    "ngo.describe()"
   ]
  },
  {
   "cell_type": "code",
   "execution_count": 11,
   "metadata": {},
   "outputs": [],
   "source": [
    "####  This is how the data looks like before we build our Principal Components\n",
    "#plt.figure(figsize = (20,10))\n",
    "#sns.heatmap(ngo.corr(),annot = True)"
   ]
  },
  {
   "cell_type": "code",
   "execution_count": 12,
   "metadata": {},
   "outputs": [
    {
     "data": {
      "text/html": [
       "<div>\n",
       "<style scoped>\n",
       "    .dataframe tbody tr th:only-of-type {\n",
       "        vertical-align: middle;\n",
       "    }\n",
       "\n",
       "    .dataframe tbody tr th {\n",
       "        vertical-align: top;\n",
       "    }\n",
       "\n",
       "    .dataframe thead th {\n",
       "        text-align: right;\n",
       "    }\n",
       "</style>\n",
       "<table border=\"1\" class=\"dataframe\">\n",
       "  <thead>\n",
       "    <tr style=\"text-align: right;\">\n",
       "      <th></th>\n",
       "      <th>country</th>\n",
       "      <th>child_mort</th>\n",
       "      <th>exports</th>\n",
       "      <th>health</th>\n",
       "      <th>imports</th>\n",
       "      <th>income</th>\n",
       "      <th>inflation</th>\n",
       "      <th>life_expec</th>\n",
       "      <th>total_fer</th>\n",
       "      <th>gdpp</th>\n",
       "    </tr>\n",
       "  </thead>\n",
       "  <tbody>\n",
       "    <tr>\n",
       "      <th>0</th>\n",
       "      <td>AFGHANISTAN</td>\n",
       "      <td>90.2</td>\n",
       "      <td>10.0</td>\n",
       "      <td>7.58</td>\n",
       "      <td>44.9</td>\n",
       "      <td>1610</td>\n",
       "      <td>9.44</td>\n",
       "      <td>56.2</td>\n",
       "      <td>5.82</td>\n",
       "      <td>553</td>\n",
       "    </tr>\n",
       "    <tr>\n",
       "      <th>1</th>\n",
       "      <td>ALBANIA</td>\n",
       "      <td>16.6</td>\n",
       "      <td>28.0</td>\n",
       "      <td>6.55</td>\n",
       "      <td>48.6</td>\n",
       "      <td>9930</td>\n",
       "      <td>4.49</td>\n",
       "      <td>76.3</td>\n",
       "      <td>1.65</td>\n",
       "      <td>4090</td>\n",
       "    </tr>\n",
       "  </tbody>\n",
       "</table>\n",
       "</div>"
      ],
      "text/plain": [
       "       country  child_mort  exports  health  imports  income  inflation  \\\n",
       "0  AFGHANISTAN        90.2     10.0    7.58     44.9    1610       9.44   \n",
       "1      ALBANIA        16.6     28.0    6.55     48.6    9930       4.49   \n",
       "\n",
       "   life_expec  total_fer  gdpp  \n",
       "0        56.2       5.82   553  \n",
       "1        76.3       1.65  4090  "
      ]
     },
     "execution_count": 12,
     "metadata": {},
     "output_type": "execute_result"
    }
   ],
   "source": [
    "# ngo = ngo_orig\n",
    "ngo.reset_index()\n",
    "ngo.head(2)"
   ]
  },
  {
   "cell_type": "code",
   "execution_count": 13,
   "metadata": {},
   "outputs": [],
   "source": [
    "# Preserve original dataframe in case needed at a later time\n",
    "ngo_orig = ngo"
   ]
  },
  {
   "cell_type": "code",
   "execution_count": 14,
   "metadata": {},
   "outputs": [
    {
     "data": {
      "text/html": [
       "<div>\n",
       "<style scoped>\n",
       "    .dataframe tbody tr th:only-of-type {\n",
       "        vertical-align: middle;\n",
       "    }\n",
       "\n",
       "    .dataframe tbody tr th {\n",
       "        vertical-align: top;\n",
       "    }\n",
       "\n",
       "    .dataframe thead th {\n",
       "        text-align: right;\n",
       "    }\n",
       "</style>\n",
       "<table border=\"1\" class=\"dataframe\">\n",
       "  <thead>\n",
       "    <tr style=\"text-align: right;\">\n",
       "      <th></th>\n",
       "      <th>child_mort</th>\n",
       "      <th>exports</th>\n",
       "      <th>health</th>\n",
       "      <th>imports</th>\n",
       "      <th>income</th>\n",
       "      <th>inflation</th>\n",
       "      <th>life_expec</th>\n",
       "      <th>total_fer</th>\n",
       "      <th>gdpp</th>\n",
       "    </tr>\n",
       "  </thead>\n",
       "  <tbody>\n",
       "    <tr>\n",
       "      <th>0</th>\n",
       "      <td>90.2</td>\n",
       "      <td>10.0</td>\n",
       "      <td>7.58</td>\n",
       "      <td>44.9</td>\n",
       "      <td>1610</td>\n",
       "      <td>9.44</td>\n",
       "      <td>56.2</td>\n",
       "      <td>5.82</td>\n",
       "      <td>553</td>\n",
       "    </tr>\n",
       "    <tr>\n",
       "      <th>1</th>\n",
       "      <td>16.6</td>\n",
       "      <td>28.0</td>\n",
       "      <td>6.55</td>\n",
       "      <td>48.6</td>\n",
       "      <td>9930</td>\n",
       "      <td>4.49</td>\n",
       "      <td>76.3</td>\n",
       "      <td>1.65</td>\n",
       "      <td>4090</td>\n",
       "    </tr>\n",
       "  </tbody>\n",
       "</table>\n",
       "</div>"
      ],
      "text/plain": [
       "   child_mort  exports  health  imports  income  inflation  life_expec  \\\n",
       "0        90.2     10.0    7.58     44.9    1610       9.44        56.2   \n",
       "1        16.6     28.0    6.55     48.6    9930       4.49        76.3   \n",
       "\n",
       "   total_fer  gdpp  \n",
       "0       5.82   553  \n",
       "1       1.65  4090  "
      ]
     },
     "execution_count": 14,
     "metadata": {},
     "output_type": "execute_result"
    }
   ],
   "source": [
    "country_frame = pd.DataFrame(ngo.pop('country'))\n",
    "country_frame.reindex()\n",
    "country_frame.head(2)\n",
    "ngo.head(2)"
   ]
  },
  {
   "cell_type": "markdown",
   "metadata": {},
   "source": [
    "#### 2) Analyse how many Components are necessary for PCA using Screeplot"
   ]
  },
  {
   "cell_type": "code",
   "execution_count": 15,
   "metadata": {},
   "outputs": [],
   "source": [
    "from sklearn import preprocessing\n",
    "ngo_scaler = preprocessing.StandardScaler().fit(ngo)\n",
    "#y_scaler = preprocessing.StandardScaler().fit(y.values.reshape(-1,1))\n",
    "ngo=ngo_scaler.transform(ngo) \n",
    "#y=y_scaler.transform(y.values.reshape(-1,1)) "
   ]
  },
  {
   "cell_type": "code",
   "execution_count": 16,
   "metadata": {},
   "outputs": [
    {
     "data": {
      "text/html": [
       "<div>\n",
       "<style scoped>\n",
       "    .dataframe tbody tr th:only-of-type {\n",
       "        vertical-align: middle;\n",
       "    }\n",
       "\n",
       "    .dataframe tbody tr th {\n",
       "        vertical-align: top;\n",
       "    }\n",
       "\n",
       "    .dataframe thead th {\n",
       "        text-align: right;\n",
       "    }\n",
       "</style>\n",
       "<table border=\"1\" class=\"dataframe\">\n",
       "  <thead>\n",
       "    <tr style=\"text-align: right;\">\n",
       "      <th></th>\n",
       "      <th>0</th>\n",
       "      <th>1</th>\n",
       "      <th>2</th>\n",
       "      <th>3</th>\n",
       "      <th>4</th>\n",
       "      <th>5</th>\n",
       "      <th>6</th>\n",
       "      <th>7</th>\n",
       "      <th>8</th>\n",
       "    </tr>\n",
       "  </thead>\n",
       "  <tbody>\n",
       "    <tr>\n",
       "      <th>0</th>\n",
       "      <td>1.291532</td>\n",
       "      <td>-1.138280</td>\n",
       "      <td>0.279088</td>\n",
       "      <td>-0.082455</td>\n",
       "      <td>-0.808245</td>\n",
       "      <td>0.157336</td>\n",
       "      <td>-1.619092</td>\n",
       "      <td>1.902882</td>\n",
       "      <td>-0.679180</td>\n",
       "    </tr>\n",
       "    <tr>\n",
       "      <th>1</th>\n",
       "      <td>-0.538949</td>\n",
       "      <td>-0.479658</td>\n",
       "      <td>-0.097016</td>\n",
       "      <td>0.070837</td>\n",
       "      <td>-0.375369</td>\n",
       "      <td>-0.312347</td>\n",
       "      <td>0.647866</td>\n",
       "      <td>-0.859973</td>\n",
       "      <td>-0.485623</td>\n",
       "    </tr>\n",
       "  </tbody>\n",
       "</table>\n",
       "</div>"
      ],
      "text/plain": [
       "          0         1         2         3         4         5         6  \\\n",
       "0  1.291532 -1.138280  0.279088 -0.082455 -0.808245  0.157336 -1.619092   \n",
       "1 -0.538949 -0.479658 -0.097016  0.070837 -0.375369 -0.312347  0.647866   \n",
       "\n",
       "          7         8  \n",
       "0  1.902882 -0.679180  \n",
       "1 -0.859973 -0.485623  "
      ]
     },
     "execution_count": 16,
     "metadata": {},
     "output_type": "execute_result"
    }
   ],
   "source": [
    "pd.DataFrame(ngo).head(2)"
   ]
  },
  {
   "cell_type": "code",
   "execution_count": 17,
   "metadata": {},
   "outputs": [],
   "source": [
    "cols = ['child_mort', 'exports', 'health', 'imports', 'income',\n",
    "       'inflation', 'life_expec', 'total_fer', 'gdpp']"
   ]
  },
  {
   "cell_type": "code",
   "execution_count": 18,
   "metadata": {},
   "outputs": [
    {
     "data": {
      "text/plain": [
       "PCA(copy=True, iterated_power='auto', n_components=None, random_state=100,\n",
       "  svd_solver='auto', tol=0.0, whiten=False)"
      ]
     },
     "execution_count": 18,
     "metadata": {},
     "output_type": "execute_result"
    }
   ],
   "source": [
    "#Importing the PCA module\n",
    "from sklearn.decomposition import PCA\n",
    "pca = PCA( random_state=100)\n",
    "pca.fit(ngo)"
   ]
  },
  {
   "cell_type": "code",
   "execution_count": 19,
   "metadata": {},
   "outputs": [],
   "source": [
    "components = pd.DataFrame({'PC1':pca.components_[0],'PC2':pca.components_[1],'Feature':cols })"
   ]
  },
  {
   "cell_type": "code",
   "execution_count": 20,
   "metadata": {},
   "outputs": [
    {
     "name": "stdout",
     "output_type": "stream",
     "text": [
      "(9, 9)\n"
     ]
    }
   ],
   "source": [
    "print(pca.components_.shape)\n",
    "pcs_df = pd.DataFrame(pca.components_)"
   ]
  },
  {
   "cell_type": "code",
   "execution_count": 21,
   "metadata": {},
   "outputs": [
    {
     "data": {
      "text/plain": [
       "array([4.16057017, 1.55566165, 1.1774338 , 1.00077724, 0.66459866,\n",
       "       0.224928  , 0.1141221 , 0.08884738, 0.06727787])"
      ]
     },
     "execution_count": 21,
     "metadata": {},
     "output_type": "execute_result"
    }
   ],
   "source": [
    "pca.explained_variance_"
   ]
  },
  {
   "cell_type": "code",
   "execution_count": 22,
   "metadata": {},
   "outputs": [
    {
     "name": "stdout",
     "output_type": "stream",
     "text": [
      "pca.explained_variance_ratio_:  [46.  17.2 13.  11.1  7.3  2.5  1.3  1.   0.7]\n",
      "[45.95 63.13 76.13 87.18 94.52 97.   98.26 99.24 99.98]\n"
     ]
    }
   ],
   "source": [
    "print(\"pca.explained_variance_ratio_: \",pca.explained_variance_ratio_.round(3)*100)\n",
    "print (np.cumsum(np.round(pca.explained_variance_ratio_, decimals=4)*100))"
   ]
  },
  {
   "cell_type": "code",
   "execution_count": 23,
   "metadata": {},
   "outputs": [
    {
     "data": {
      "image/png": "[encoded data removed]",
      "text/plain": [
       "<Figure size 864x576 with 1 Axes>"
      ]
     },
     "metadata": {
      "needs_background": "light"
     },
     "output_type": "display_data"
    }
   ],
   "source": [
    "#Making the screeplot - plotting the cumulative variance against the number of components\n",
    "%matplotlib inline\n",
    "fig = plt.figure(figsize = (12,8))\n",
    "plt.plot(np.cumsum(pca.explained_variance_ratio_))\n",
    "plt.xlabel('number of components')\n",
    "plt.ylabel('cumulative explained variance')\n",
    "plt.show()"
   ]
  },
  {
   "cell_type": "markdown",
   "metadata": {},
   "source": [
    "#### As can be seen from the scree plot , 4 components are sufficient to describe variance of 87% of data"
   ]
  },
  {
   "cell_type": "code",
   "execution_count": 24,
   "metadata": {},
   "outputs": [
    {
     "data": {
      "text/plain": [
       "0.0"
      ]
     },
     "execution_count": 24,
     "metadata": {},
     "output_type": "execute_result"
    }
   ],
   "source": [
    "product = np.dot(pca.components_[0],pca.components_[1])\n",
    "product.round(5)"
   ]
  },
  {
   "cell_type": "code",
   "execution_count": 25,
   "metadata": {},
   "outputs": [
    {
     "data": {
      "image/png": "[encoded data removed]",
      "text/plain": [
       "<Figure size 360x360 with 1 Axes>"
      ]
     },
     "metadata": {
      "needs_background": "light"
     },
     "output_type": "display_data"
    }
   ],
   "source": [
    "%matplotlib inline\n",
    "fig = plt.figure(figsize = (5,5))\n",
    "plt.scatter(components.PC1, components.PC2)\n",
    "plt.xlabel('Principal Component 1')\n",
    "plt.ylabel('Principal Component 2')\n",
    "for i, txt in enumerate(components.Feature):\n",
    "    plt.annotate(txt, (components.PC1[i],components.PC2[i]))\n",
    "plt.tight_layout()\n",
    "plt.show()"
   ]
  },
  {
   "cell_type": "markdown",
   "metadata": {},
   "source": [
    "#### 3) Perform Incremental PCA on the number of components identified by Scree plot (4) "
   ]
  },
  {
   "cell_type": "code",
   "execution_count": 26,
   "metadata": {},
   "outputs": [],
   "source": [
    "#Using incremental PCA for efficiency - saves a lot of time on larger datasets\n",
    "from sklearn.decomposition import IncrementalPCA\n",
    "pca_final = IncrementalPCA(n_components=4)"
   ]
  },
  {
   "cell_type": "code",
   "execution_count": 27,
   "metadata": {},
   "outputs": [
    {
     "data": {
      "text/plain": [
       "(167, 4)"
      ]
     },
     "execution_count": 27,
     "metadata": {},
     "output_type": "execute_result"
    }
   ],
   "source": [
    "df_pca = pd.DataFrame (pca_final.fit_transform(ngo) , columns =['PC1', 'PC2', 'PC3' ,'PC4'])\n",
    "df_pca.reset_index()\n",
    "df_pca.shape"
   ]
  },
  {
   "cell_type": "code",
   "execution_count": 28,
   "metadata": {},
   "outputs": [
    {
     "data": {
      "text/html": [
       "<div>\n",
       "<style scoped>\n",
       "    .dataframe tbody tr th:only-of-type {\n",
       "        vertical-align: middle;\n",
       "    }\n",
       "\n",
       "    .dataframe tbody tr th {\n",
       "        vertical-align: top;\n",
       "    }\n",
       "\n",
       "    .dataframe thead th {\n",
       "        text-align: right;\n",
       "    }\n",
       "</style>\n",
       "<table border=\"1\" class=\"dataframe\">\n",
       "  <thead>\n",
       "    <tr style=\"text-align: right;\">\n",
       "      <th></th>\n",
       "      <th>PC1</th>\n",
       "      <th>PC2</th>\n",
       "      <th>PC3</th>\n",
       "      <th>PC4</th>\n",
       "    </tr>\n",
       "  </thead>\n",
       "  <tbody>\n",
       "    <tr>\n",
       "      <th>0</th>\n",
       "      <td>-2.913787</td>\n",
       "      <td>0.088354</td>\n",
       "      <td>0.721003</td>\n",
       "      <td>0.996699</td>\n",
       "    </tr>\n",
       "    <tr>\n",
       "      <th>1</th>\n",
       "      <td>0.429358</td>\n",
       "      <td>-0.587859</td>\n",
       "      <td>0.321052</td>\n",
       "      <td>-1.171193</td>\n",
       "    </tr>\n",
       "    <tr>\n",
       "      <th>2</th>\n",
       "      <td>-0.282988</td>\n",
       "      <td>-0.446657</td>\n",
       "      <td>-1.225135</td>\n",
       "      <td>-0.850127</td>\n",
       "    </tr>\n",
       "    <tr>\n",
       "      <th>3</th>\n",
       "      <td>-2.930969</td>\n",
       "      <td>1.699437</td>\n",
       "      <td>-1.521734</td>\n",
       "      <td>0.875966</td>\n",
       "    </tr>\n",
       "    <tr>\n",
       "      <th>4</th>\n",
       "      <td>1.031988</td>\n",
       "      <td>0.130488</td>\n",
       "      <td>0.192922</td>\n",
       "      <td>-0.844808</td>\n",
       "    </tr>\n",
       "  </tbody>\n",
       "</table>\n",
       "</div>"
      ],
      "text/plain": [
       "        PC1       PC2       PC3       PC4\n",
       "0 -2.913787  0.088354  0.721003  0.996699\n",
       "1  0.429358 -0.587859  0.321052 -1.171193\n",
       "2 -0.282988 -0.446657 -1.225135 -0.850127\n",
       "3 -2.930969  1.699437 -1.521734  0.875966\n",
       "4  1.031988  0.130488  0.192922 -0.844808"
      ]
     },
     "execution_count": 28,
     "metadata": {},
     "output_type": "execute_result"
    }
   ],
   "source": [
    "df_pca.head()"
   ]
  },
  {
   "cell_type": "markdown",
   "metadata": {},
   "source": [
    "#### 4) Create Correlation matrix and ensure there is no Correlation between the Principal components created by PCA"
   ]
  },
  {
   "cell_type": "code",
   "execution_count": 29,
   "metadata": {},
   "outputs": [
    {
     "data": {
      "text/plain": [
       "<matplotlib.axes._subplots.AxesSubplot at 0x1a1ffcd7b8>"
      ]
     },
     "execution_count": 29,
     "metadata": {},
     "output_type": "execute_result"
    },
    {
     "data": {
      "image/png": "[encoded data removed]",
      "text/plain": [
       "<Figure size 720x288 with 2 Axes>"
      ]
     },
     "metadata": {
      "needs_background": "light"
     },
     "output_type": "display_data"
    }
   ],
   "source": [
    "#creating correlation matrix for the principal components\n",
    "corrmat = np.corrcoef(df_pca.transpose())\n",
    "#plotting the correlation matrix\n",
    "%matplotlib inline\n",
    "plt.figure(figsize = (10,4))\n",
    "sns.heatmap(corrmat,annot = True)"
   ]
  },
  {
   "cell_type": "code",
   "execution_count": 30,
   "metadata": {},
   "outputs": [
    {
     "name": "stdout",
     "output_type": "stream",
     "text": [
      "max corr: 0.0011961925092543874 , min corr:  -0.0020378295355520564\n",
      "(167, 4)\n"
     ]
    }
   ],
   "source": [
    "# 1s -> 0s in diagonals\n",
    "corrmat_nodiag = corrmat - np.diagflat(corrmat.diagonal())\n",
    "print(\"max corr:\",corrmat_nodiag.max(), \", min corr: \", corrmat_nodiag.min(),)\n",
    "print(df_pca.shape)\n",
    "# we see that correlations are indeed very close to 0"
   ]
  },
  {
   "cell_type": "markdown",
   "metadata": {},
   "source": [
    "#### there is no correlation between any two components and PCA . This means -\n",
    "- We effectively have removed multicollinearity from our situation, and our model design is stable"
   ]
  },
  {
   "cell_type": "markdown",
   "metadata": {},
   "source": [
    "#### 5) Derive and analyse Hopkins statistics "
   ]
  },
  {
   "cell_type": "code",
   "execution_count": 31,
   "metadata": {},
   "outputs": [],
   "source": [
    "# Function for Hopkins statistics copied from the workbook provided with the PCA exercise\n",
    "from sklearn.neighbors import NearestNeighbors\n",
    "from random import sample\n",
    "from numpy.random import uniform\n",
    "import numpy as np\n",
    "from math import isnan\n",
    " \n",
    "def hopkins(X):\n",
    "    d = X.shape[1]\n",
    "    #d = len(vars) # columns\n",
    "    n = len(X) # rows\n",
    "    m = int(0.1 * n) \n",
    "    nbrs = NearestNeighbors(n_neighbors=1).fit(X.values)\n",
    " \n",
    "    rand_X = sample(range(0, n, 1), m)\n",
    " \n",
    "    ujd = []\n",
    "    wjd = []\n",
    "    for j in range(0, m):\n",
    "        u_dist, _ = nbrs.kneighbors(uniform(np.amin(X,axis=0),np.amax(X,axis=0),d).reshape(1, -1), 2, return_distance=True)\n",
    "        ujd.append(u_dist[0][1])\n",
    "        w_dist, _ = nbrs.kneighbors(X.iloc[rand_X[j]].values.reshape(1, -1), 2, return_distance=True)\n",
    "        wjd.append(w_dist[0][1])\n",
    " \n",
    "    H = sum(ujd) / (sum(ujd) + sum(wjd))\n",
    "    if isnan(H):\n",
    "        print(ujd, wjd)\n",
    "        H = 0\n",
    " \n",
    "    return H"
   ]
  },
  {
   "cell_type": "code",
   "execution_count": 32,
   "metadata": {},
   "outputs": [
    {
     "data": {
      "text/plain": [
       "0.824008353527587"
      ]
     },
     "execution_count": 32,
     "metadata": {},
     "output_type": "execute_result"
    }
   ],
   "source": [
    "hopkins(df_pca)"
   ]
  },
  {
   "cell_type": "markdown",
   "metadata": {},
   "source": [
    "#### 6) Derive Silhouette score and plot Silhouette analysis , find number of Optimum Clusters that best describe the data"
   ]
  },
  {
   "cell_type": "code",
   "execution_count": 33,
   "metadata": {},
   "outputs": [
    {
     "data": {
      "image/png": "[encoded data removed]",
      "text/plain": [
       "<Figure size 432x288 with 1 Axes>"
      ]
     },
     "metadata": {
      "needs_background": "light"
     },
     "output_type": "display_data"
    }
   ],
   "source": [
    "#Silhouette analysis\n",
    "from sklearn.metrics import silhouette_score\n",
    "sse_ = []\n",
    "for k in range(2, 25):\n",
    "    kmeans = KMeans(n_clusters=k).fit(df_pca)\n",
    "    sse_.append([k, silhouette_score(df_pca, kmeans.labels_)])\n",
    "plt.plot(pd.DataFrame(sse_)[0], pd.DataFrame(sse_)[1]);"
   ]
  },
  {
   "cell_type": "code",
   "execution_count": 34,
   "metadata": {},
   "outputs": [
    {
     "data": {
      "text/plain": [
       "[<matplotlib.lines.Line2D at 0x1a2169ddd8>]"
      ]
     },
     "execution_count": 34,
     "metadata": {},
     "output_type": "execute_result"
    },
    {
     "data": {
      "image/png": "[encoded data removed]",
      "text/plain": [
       "<Figure size 432x288 with 1 Axes>"
      ]
     },
     "metadata": {
      "needs_background": "light"
     },
     "output_type": "display_data"
    }
   ],
   "source": [
    "# sum of squared distances\n",
    "ssd = []\n",
    "for num_clusters in list(range(1,21)):\n",
    "    model_clus = KMeans(n_clusters = num_clusters, max_iter=50)\n",
    "    model_clus.fit(df_pca)\n",
    "    ssd.append(model_clus.inertia_)\n",
    "\n",
    "plt.plot(ssd)"
   ]
  },
  {
   "cell_type": "markdown",
   "metadata": {},
   "source": [
    "#### 7) Perform K-means Clustering with different K's i.e  K = 3 , 4 and 5 since Silhouette analysis suggests clusters between 2 to 5"
   ]
  },
  {
   "cell_type": "code",
   "execution_count": 35,
   "metadata": {},
   "outputs": [
    {
     "data": {
      "text/plain": [
       "KMeans(algorithm='auto', copy_x=True, init='k-means++', max_iter=50,\n",
       "    n_clusters=5, n_init=10, n_jobs=None, precompute_distances='auto',\n",
       "    random_state=35, tol=0.0001, verbose=0)"
      ]
     },
     "execution_count": 35,
     "metadata": {},
     "output_type": "execute_result"
    }
   ],
   "source": [
    "# Kmeans with K=3\n",
    "model_clus3 = KMeans(n_clusters = 3, max_iter=50 , random_state=35 )\n",
    "model_clus3.fit(df_pca)\n",
    "\n",
    "# Kmeans with K=4\n",
    "model_clus4 = KMeans(n_clusters = 4, max_iter=50 , random_state=35 )\n",
    "model_clus4.fit(df_pca)\n",
    "\n",
    "# Kmeans with K=5\n",
    "model_clus5 = KMeans(n_clusters = 5, max_iter=50 , random_state=35 )\n",
    "model_clus5.fit(df_pca)\n"
   ]
  },
  {
   "cell_type": "code",
   "execution_count": 36,
   "metadata": {},
   "outputs": [
    {
     "data": {
      "text/plain": [
       "Index(['PC1', 'PC2', 'PC3', 'PC4'], dtype='object')"
      ]
     },
     "execution_count": 36,
     "metadata": {},
     "output_type": "execute_result"
    }
   ],
   "source": [
    "df_pca.columns"
   ]
  },
  {
   "cell_type": "code",
   "execution_count": 37,
   "metadata": {},
   "outputs": [],
   "source": [
    "# analysis of clusters formed\n",
    "df_pca.index = pd.RangeIndex(len(df_pca.index))\n",
    "df_pca3 = pd.concat([country_frame,  df_pca, pd.Series(model_clus3.labels_)], axis=1)\n",
    "df_pca3.columns = [ 'country', 'PC1', 'PC2', 'PC3', 'PC4', 'ClusterID']\n",
    "\n",
    "df_pca4 = pd.concat([country_frame , df_pca, pd.Series(model_clus4.labels_)], axis=1)\n",
    "df_pca4.columns = [ 'country', 'PC1', 'PC2', 'PC3', 'PC4', 'ClusterID']\n",
    "\n",
    "df_pca5 = pd.concat([country_frame , df_pca, pd.Series(model_clus5.labels_)], axis=1)\n",
    "df_pca5.columns = ['country', 'PC1', 'PC2', 'PC3', 'PC4', 'ClusterID']"
   ]
  },
  {
   "cell_type": "code",
   "execution_count": 38,
   "metadata": {},
   "outputs": [
    {
     "name": "stdout",
     "output_type": "stream",
     "text": [
      "           country\n",
      "ClusterID         \n",
      "0               36\n",
      "1               84\n",
      "2               47\n",
      "           country\n",
      "ClusterID         \n",
      "0                3\n",
      "1               48\n",
      "2               30\n",
      "3               86\n",
      "           country\n",
      "ClusterID         \n",
      "0               52\n",
      "1               45\n",
      "2               28\n",
      "3                3\n",
      "4               39\n"
     ]
    }
   ],
   "source": [
    "print(pd.DataFrame(df_pca3.groupby([\"ClusterID\"]).country.count()))\n",
    "print(pd.DataFrame(df_pca4.groupby([\"ClusterID\"]).country.count()))\n",
    "print(pd.DataFrame(df_pca5.groupby([\"ClusterID\"]).country.count()))"
   ]
  },
  {
   "cell_type": "markdown",
   "metadata": {},
   "source": [
    "##### As seen above, five clusters best explain the data as they are spread up better than other K's"
   ]
  },
  {
   "cell_type": "markdown",
   "metadata": {},
   "source": [
    "#### 8) Choose the Clusters derived with the Best K that describes the spread  (here 5)"
   ]
  },
  {
   "cell_type": "code",
   "execution_count": 39,
   "metadata": {},
   "outputs": [
    {
     "data": {
      "text/html": [
       "<div>\n",
       "<style scoped>\n",
       "    .dataframe tbody tr th:only-of-type {\n",
       "        vertical-align: middle;\n",
       "    }\n",
       "\n",
       "    .dataframe tbody tr th {\n",
       "        vertical-align: top;\n",
       "    }\n",
       "\n",
       "    .dataframe thead th {\n",
       "        text-align: right;\n",
       "    }\n",
       "</style>\n",
       "<table border=\"1\" class=\"dataframe\">\n",
       "  <thead>\n",
       "    <tr style=\"text-align: right;\">\n",
       "      <th></th>\n",
       "      <th>country</th>\n",
       "      <th>PC1</th>\n",
       "      <th>PC2</th>\n",
       "      <th>PC3</th>\n",
       "      <th>PC4</th>\n",
       "      <th>ClusterID</th>\n",
       "    </tr>\n",
       "  </thead>\n",
       "  <tbody>\n",
       "    <tr>\n",
       "      <th>0</th>\n",
       "      <td>AFGHANISTAN</td>\n",
       "      <td>-2.913787</td>\n",
       "      <td>0.088354</td>\n",
       "      <td>0.721003</td>\n",
       "      <td>0.996699</td>\n",
       "      <td>1</td>\n",
       "    </tr>\n",
       "    <tr>\n",
       "      <th>3</th>\n",
       "      <td>ANGOLA</td>\n",
       "      <td>-2.930969</td>\n",
       "      <td>1.699437</td>\n",
       "      <td>-1.521734</td>\n",
       "      <td>0.875966</td>\n",
       "      <td>1</td>\n",
       "    </tr>\n",
       "    <tr>\n",
       "      <th>17</th>\n",
       "      <td>BENIN</td>\n",
       "      <td>-2.679195</td>\n",
       "      <td>0.391235</td>\n",
       "      <td>0.139349</td>\n",
       "      <td>0.321834</td>\n",
       "      <td>1</td>\n",
       "    </tr>\n",
       "    <tr>\n",
       "      <th>21</th>\n",
       "      <td>BOTSWANA</td>\n",
       "      <td>-0.881545</td>\n",
       "      <td>0.461932</td>\n",
       "      <td>0.620368</td>\n",
       "      <td>0.384517</td>\n",
       "      <td>1</td>\n",
       "    </tr>\n",
       "    <tr>\n",
       "      <th>25</th>\n",
       "      <td>BURKINA FASO</td>\n",
       "      <td>-3.125200</td>\n",
       "      <td>0.023315</td>\n",
       "      <td>0.410699</td>\n",
       "      <td>1.096936</td>\n",
       "      <td>1</td>\n",
       "    </tr>\n",
       "  </tbody>\n",
       "</table>\n",
       "</div>"
      ],
      "text/plain": [
       "         country       PC1       PC2       PC3       PC4  ClusterID\n",
       "0    AFGHANISTAN -2.913787  0.088354  0.721003  0.996699          1\n",
       "3         ANGOLA -2.930969  1.699437 -1.521734  0.875966          1\n",
       "17         BENIN -2.679195  0.391235  0.139349  0.321834          1\n",
       "21      BOTSWANA -0.881545  0.461932  0.620368  0.384517          1\n",
       "25  BURKINA FASO -3.125200  0.023315  0.410699  1.096936          1"
      ]
     },
     "execution_count": 39,
     "metadata": {},
     "output_type": "execute_result"
    }
   ],
   "source": [
    "# Let's see some samples\n",
    "df_pca5.loc[(df_pca5['ClusterID']==1) ].head()"
   ]
  },
  {
   "cell_type": "markdown",
   "metadata": {},
   "source": [
    "#### 9) Add original columns to the dataframe and get a final dataframe for PCA + K-means clustered data for further analysis"
   ]
  },
  {
   "cell_type": "code",
   "execution_count": 40,
   "metadata": {},
   "outputs": [],
   "source": [
    "ngo_kfinal = pd.concat([df_pca5  , ngo_orig] , axis = 1)"
   ]
  },
  {
   "cell_type": "markdown",
   "metadata": {},
   "source": [
    "#### 10) Compute `Mean` for all the original dataframe columns to analyze and pick the best cluster around"
   ]
  },
  {
   "cell_type": "code",
   "execution_count": 41,
   "metadata": {},
   "outputs": [
    {
     "data": {
      "text/html": [
       "<div>\n",
       "<style scoped>\n",
       "    .dataframe tbody tr th:only-of-type {\n",
       "        vertical-align: middle;\n",
       "    }\n",
       "\n",
       "    .dataframe tbody tr th {\n",
       "        vertical-align: top;\n",
       "    }\n",
       "\n",
       "    .dataframe thead th {\n",
       "        text-align: right;\n",
       "    }\n",
       "</style>\n",
       "<table border=\"1\" class=\"dataframe\">\n",
       "  <thead>\n",
       "    <tr style=\"text-align: right;\">\n",
       "      <th></th>\n",
       "      <th>ClusterID</th>\n",
       "      <th>cluster_child_mort</th>\n",
       "      <th>cluster_exports</th>\n",
       "      <th>cluster_health</th>\n",
       "      <th>cluster_imports</th>\n",
       "      <th>cluster_income</th>\n",
       "      <th>cluster_inflation</th>\n",
       "      <th>cluster_life_expec</th>\n",
       "      <th>cluster_total_fer</th>\n",
       "      <th>cluster_gdpp</th>\n",
       "    </tr>\n",
       "  </thead>\n",
       "  <tbody>\n",
       "    <tr>\n",
       "      <th>0</th>\n",
       "      <td>0</td>\n",
       "      <td>16.971154</td>\n",
       "      <td>50.646154</td>\n",
       "      <td>6.985000</td>\n",
       "      <td>60.442308</td>\n",
       "      <td>13604.230769</td>\n",
       "      <td>3.780154</td>\n",
       "      <td>73.319231</td>\n",
       "      <td>2.126538</td>\n",
       "      <td>8024.923077</td>\n",
       "    </tr>\n",
       "    <tr>\n",
       "      <th>1</th>\n",
       "      <td>1</td>\n",
       "      <td>94.857778</td>\n",
       "      <td>28.289111</td>\n",
       "      <td>6.407778</td>\n",
       "      <td>43.026667</td>\n",
       "      <td>3493.177778</td>\n",
       "      <td>11.816111</td>\n",
       "      <td>58.926667</td>\n",
       "      <td>5.038667</td>\n",
       "      <td>1713.377778</td>\n",
       "    </tr>\n",
       "    <tr>\n",
       "      <th>2</th>\n",
       "      <td>2</td>\n",
       "      <td>5.046429</td>\n",
       "      <td>45.039286</td>\n",
       "      <td>9.240000</td>\n",
       "      <td>38.678571</td>\n",
       "      <td>46371.428571</td>\n",
       "      <td>2.860464</td>\n",
       "      <td>80.417857</td>\n",
       "      <td>1.823571</td>\n",
       "      <td>44803.571429</td>\n",
       "    </tr>\n",
       "    <tr>\n",
       "      <th>3</th>\n",
       "      <td>3</td>\n",
       "      <td>4.133333</td>\n",
       "      <td>176.000000</td>\n",
       "      <td>6.793333</td>\n",
       "      <td>156.666667</td>\n",
       "      <td>64033.333333</td>\n",
       "      <td>2.468000</td>\n",
       "      <td>81.433333</td>\n",
       "      <td>1.380000</td>\n",
       "      <td>57566.666667</td>\n",
       "    </tr>\n",
       "    <tr>\n",
       "      <th>4</th>\n",
       "      <td>4</td>\n",
       "      <td>27.853846</td>\n",
       "      <td>29.986897</td>\n",
       "      <td>5.321795</td>\n",
       "      <td>30.729895</td>\n",
       "      <td>13026.923077</td>\n",
       "      <td>12.404513</td>\n",
       "      <td>72.371795</td>\n",
       "      <td>2.558718</td>\n",
       "      <td>6241.435897</td>\n",
       "    </tr>\n",
       "  </tbody>\n",
       "</table>\n",
       "</div>"
      ],
      "text/plain": [
       "   ClusterID  cluster_child_mort  cluster_exports  cluster_health  \\\n",
       "0          0           16.971154        50.646154        6.985000   \n",
       "1          1           94.857778        28.289111        6.407778   \n",
       "2          2            5.046429        45.039286        9.240000   \n",
       "3          3            4.133333       176.000000        6.793333   \n",
       "4          4           27.853846        29.986897        5.321795   \n",
       "\n",
       "   cluster_imports  cluster_income  cluster_inflation  cluster_life_expec  \\\n",
       "0        60.442308    13604.230769           3.780154           73.319231   \n",
       "1        43.026667     3493.177778          11.816111           58.926667   \n",
       "2        38.678571    46371.428571           2.860464           80.417857   \n",
       "3       156.666667    64033.333333           2.468000           81.433333   \n",
       "4        30.729895    13026.923077          12.404513           72.371795   \n",
       "\n",
       "   cluster_total_fer  cluster_gdpp  \n",
       "0           2.126538   8024.923077  \n",
       "1           5.038667   1713.377778  \n",
       "2           1.823571  44803.571429  \n",
       "3           1.380000  57566.666667  \n",
       "4           2.558718   6241.435897  "
      ]
     },
     "execution_count": 41,
     "metadata": {},
     "output_type": "execute_result"
    }
   ],
   "source": [
    "cluster_child_mort = pd.DataFrame(ngo_kfinal.groupby([\"ClusterID\"]).child_mort.mean())\n",
    "cluster_exports = pd.DataFrame(ngo_kfinal.groupby([\"ClusterID\"]).exports.mean())\n",
    "cluster_health = pd.DataFrame(ngo_kfinal.groupby([\"ClusterID\"]).health.mean())\n",
    "cluster_imports = pd.DataFrame(ngo_kfinal.groupby([\"ClusterID\"]).imports.mean())\n",
    "cluster_income = pd.DataFrame(ngo_kfinal.groupby([\"ClusterID\"]).income.mean())\n",
    "cluster_inflation = pd.DataFrame(ngo_kfinal.groupby([\"ClusterID\"]).inflation.mean())\n",
    "cluster_life_expec = pd.DataFrame(ngo_kfinal.groupby([\"ClusterID\"]).life_expec.mean())\n",
    "cluster_total_fer = pd.DataFrame(ngo_kfinal.groupby([\"ClusterID\"]).total_fer.mean())\n",
    "cluster_gdpp = pd.DataFrame(ngo_kfinal.groupby([\"ClusterID\"]).gdpp.mean())\n",
    "\n",
    "df_k = pd.concat([pd.Series([0,1,2,3,4]), cluster_child_mort, cluster_exports, cluster_health\n",
    "                ,cluster_imports, cluster_income , cluster_inflation, \n",
    "                cluster_life_expec , cluster_total_fer, cluster_gdpp ], axis=1)\n",
    "df_k.columns = [\"ClusterID\", \"cluster_child_mort\", 'cluster_exports', 'cluster_health'\n",
    "                ,'cluster_imports', 'cluster_income' , 'cluster_inflation', \n",
    "                'cluster_life_expec' , 'cluster_total_fer', 'cluster_gdpp']\n",
    "df_k.head()"
   ]
  },
  {
   "cell_type": "code",
   "execution_count": 42,
   "metadata": {
    "scrolled": false
   },
   "outputs": [
    {
     "data": {
      "image/png": "[encoded data removed]",
      "text/plain": [
       "<Figure size 1440x720 with 9 Axes>"
      ]
     },
     "metadata": {
      "needs_background": "light"
     },
     "output_type": "display_data"
    }
   ],
   "source": [
    "plt.figure(figsize=(20, 10))\n",
    "plt.subplot(3,3,1)\n",
    "sns.barplot(x=df_k.ClusterID, y=df_k.cluster_child_mort )\n",
    "plt.subplot(3,3,2)\n",
    "sns.barplot(x=df_k.ClusterID, y=df_k.cluster_exports)\n",
    "plt.subplot(3,3,3)\n",
    "sns.barplot(x=df_k.ClusterID, y=df_k.cluster_health)\n",
    "plt.subplot(3,3,4)\n",
    "sns.barplot(x=df_k.ClusterID, y=df_k.cluster_imports)\n",
    "plt.subplot(3,3,5)\n",
    "sns.barplot(x=df_k.ClusterID, y=df_k.cluster_income)\n",
    "plt.subplot(3,3,6)\n",
    "sns.barplot(x=df_k.ClusterID, y=df_k.cluster_inflation)\n",
    "plt.subplot(3,3,7)\n",
    "sns.barplot(x=df_k.ClusterID, y=df_k.cluster_life_expec)\n",
    "plt.subplot(3,3,8)\n",
    "sns.barplot(x=df_k.ClusterID, y=df_k.cluster_total_fer)\n",
    "plt.subplot(3,3,9)\n",
    "sns.barplot(x=df_k.ClusterID, y=df_k.cluster_gdpp)\n",
    "\n",
    "plt.show()"
   ]
  },
  {
   "cell_type": "markdown",
   "metadata": {},
   "source": [
    "##### Result: As seen above, Cluster 1 is the one needing most attention due to the following reasons: <br>\n",
    "1) Child mortality is extremely high as compared to other clusters <br>\n",
    "2) exports, imports, income and gdpp is low <br>\n",
    "3) Inflation is high <br>\n",
    "4) Total fertility rates are high (uncontrolled population growth) <br>"
   ]
  },
  {
   "cell_type": "code",
   "execution_count": 43,
   "metadata": {},
   "outputs": [],
   "source": [
    "k_selected = ngo_kfinal.loc[(ngo_kfinal['ClusterID']==1)]"
   ]
  },
  {
   "cell_type": "markdown",
   "metadata": {},
   "source": [
    "##### Plot one variable against another with Cluster as hue and see if there is any interpretation that can be derived"
   ]
  },
  {
   "cell_type": "code",
   "execution_count": 44,
   "metadata": {},
   "outputs": [
    {
     "data": {
      "image/png": "[encoded data removed]",
      "text/plain": [
       "<Figure size 1440x720 with 12 Axes>"
      ]
     },
     "metadata": {
      "needs_background": "light"
     },
     "output_type": "display_data"
    }
   ],
   "source": [
    "plt.figure(figsize=(20, 10))\n",
    "plt.subplot(2,3,1)\n",
    "sctr = plt.scatter(ngo_kfinal['imports'], ngo_kfinal['exports'], c=ngo_kfinal['ClusterID'])\n",
    "plt.xlabel(\"imports\")\n",
    "plt.ylabel(\"exports\")\n",
    "plt.colorbar(sctr, format='Cluster: %d')\n",
    "\n",
    "plt.subplot(2,3,2)\n",
    "plt.scatter(ngo_kfinal['child_mort'], ngo_kfinal['life_expec'], c=ngo_kfinal['ClusterID'])\n",
    "plt.xlabel(\"child_mort\")\n",
    "plt.ylabel(\"life_expec\")\n",
    "plt.colorbar(sctr, format='Cluster: %d')\n",
    "\n",
    "\n",
    "plt.subplot(2,3,3)\n",
    "plt.scatter(ngo_kfinal['income'], ngo_kfinal['inflation'], c=ngo_kfinal['ClusterID'])\n",
    "plt.xlabel(\"income\")\n",
    "plt.ylabel(\"inflation\")\n",
    "plt.colorbar(sctr, format='Cluster: %d')\n",
    "\n",
    "\n",
    "plt.subplot(2,3,4)\n",
    "plt.scatter(ngo_kfinal['health'], ngo_kfinal['total_fer'], c=ngo_kfinal['ClusterID'])\n",
    "plt.xlabel(\"health\")\n",
    "plt.ylabel(\"total_fer\")\n",
    "plt.colorbar(sctr, format='Cluster: %d')\n",
    "\n",
    "\n",
    "plt.subplot(2,3,5)\n",
    "plt.scatter(ngo_kfinal['total_fer'], ngo_kfinal['life_expec'], c=ngo_kfinal['ClusterID'])\n",
    "plt.xlabel(\"total_fer\")\n",
    "plt.ylabel(\"life_expec\")\n",
    "plt.colorbar(sctr, format='Cluster: %d')\n",
    "\n",
    "\n",
    "plt.subplot(2,3,6)\n",
    "plt.scatter(ngo_kfinal['income'], ngo_kfinal['life_expec'], c=ngo_kfinal['ClusterID'])\n",
    "plt.xlabel(\"income\")\n",
    "plt.ylabel(\"life_expec\")\n",
    "plt.colorbar(sctr, format='Cluster: %d')\n",
    "\n",
    "\n",
    "plt.show()"
   ]
  },
  {
   "cell_type": "markdown",
   "metadata": {},
   "source": [
    "#### 11) Derive Mean, Q1, Q2, Q3 and Q4 of important variables "
   ]
  },
  {
   "cell_type": "markdown",
   "metadata": {},
   "source": [
    "##### let's analyze box plots on child mortality , inflation and gdpp "
   ]
  },
  {
   "cell_type": "code",
   "execution_count": 45,
   "metadata": {},
   "outputs": [
    {
     "name": "stdout",
     "output_type": "stream",
     "text": [
      "**************** \n",
      "CHILD MORTALITY \n",
      "**************** \n",
      "MEAN 94.85777777777778\n",
      "MEDIAN 90.3\n",
      "1ST QUANTILE (Q1) 66.8\n",
      "2ND QUANTILE (Q2) 90.3\n",
      "3RD QUANTILE (Q3) 111.0\n",
      "4TH QUANTILE (Q4) 208.0\n",
      "**************** \n",
      "GDPP \n",
      "**************** \n",
      "MEAN 1713.3777777777777\n",
      "MEDIAN 769.0\n",
      "1ST QUANTILE (Q1) 547.0\n",
      "2ND QUANTILE (Q2) 769.0\n",
      "3RD QUANTILE (Q3) 1310.0\n",
      "4TH QUANTILE (Q4)  17100.0\n",
      "**************** \n",
      "INFLATION \n",
      "**************** \n",
      "MEAN 11.81611111111111\n",
      "MEDIAN 8.79\n",
      "1ST QUANTILE (Q1) 3.87\n",
      "2ND QUANTILE (Q2) 8.79\n",
      "3RD QUANTILE (Q3) 16.1\n",
      "4TH QUANTILE (Q4)  104.0\n"
     ]
    }
   ],
   "source": [
    "print (\"**************** \")\n",
    "print (\"CHILD MORTALITY \")\n",
    "print (\"**************** \")\n",
    "print (\"MEAN\" , k_selected.child_mort.mean())\n",
    "print (\"MEDIAN\" , k_selected.child_mort.median())\n",
    "print (\"1ST QUANTILE (Q1)\" , k_selected.child_mort.quantile(0.25))\n",
    "# Median same as Q2\n",
    "print (\"2ND QUANTILE (Q2)\" , k_selected.child_mort.quantile(0.50))\n",
    "print (\"3RD QUANTILE (Q3)\" , k_selected.child_mort.quantile(0.75))\n",
    "print (\"4TH QUANTILE (Q4)\" , k_selected.child_mort.quantile(1))\n",
    "\n",
    "print (\"**************** \")\n",
    "print (\"GDPP \")\n",
    "print (\"**************** \")\n",
    "print (\"MEAN\" , k_selected.gdpp.mean())\n",
    "print (\"MEDIAN\" , k_selected.gdpp.median())\n",
    "print (\"1ST QUANTILE (Q1)\" , k_selected.gdpp.quantile(0.25))\n",
    "print (\"2ND QUANTILE (Q2)\" , k_selected.gdpp.quantile(0.50))\n",
    "# Median same as Q2\n",
    "print (\"3RD QUANTILE (Q3)\" , k_selected.gdpp.quantile(0.75))\n",
    "print (\"4TH QUANTILE (Q4) \" , k_selected.gdpp.quantile(1))\n",
    "\n",
    "\n",
    "\n",
    "print (\"**************** \")\n",
    "print (\"INFLATION \")\n",
    "print (\"**************** \")\n",
    "print (\"MEAN\" , k_selected.inflation.mean())\n",
    "print (\"MEDIAN\" , k_selected.inflation.median())\n",
    "print (\"1ST QUANTILE (Q1)\" , k_selected.inflation.quantile(0.25))\n",
    "print (\"2ND QUANTILE (Q2)\" , k_selected.inflation.quantile(0.50))\n",
    "# Median same as Q2\n",
    "print (\"3RD QUANTILE (Q3)\" , k_selected.inflation.quantile(0.75))\n",
    "print (\"4TH QUANTILE (Q4) \" , k_selected.inflation.quantile(1))\n",
    "\n",
    "\n"
   ]
  },
  {
   "cell_type": "code",
   "execution_count": 46,
   "metadata": {},
   "outputs": [
    {
     "data": {
      "image/png": "[encoded data removed]",
      "text/plain": [
       "<Figure size 1080x1080 with 3 Axes>"
      ]
     },
     "metadata": {
      "needs_background": "light"
     },
     "output_type": "display_data"
    }
   ],
   "source": [
    "plt.figure(1 , figsize=(15, 15))\n",
    "\n",
    "#Syntax for Reference line \"axhline\" snf \"patch_artist\" is sourced from https://matplotlib.org\n",
    "\n",
    "# subplot 1\n",
    "plt.subplot(3, 3, 1)\n",
    "plt.title(\"CHILD MORTALITY\")\n",
    "plt.boxplot(k_selected['child_mort'] , patch_artist=True)\n",
    "plt.axhline(90.3, color='black', lw=.5)\n",
    "\n",
    "\n",
    "\n",
    "# subplot 2 \n",
    "plt.subplot(3, 3, 2)\n",
    "plt.title(\"GDPP\")\n",
    "plt.boxplot(k_selected['gdpp'], patch_artist=True)\n",
    "plt.axhline(769, color='black', lw=.5)\n",
    "\n",
    "\n",
    "\n",
    "# subplot 2 \n",
    "plt.subplot(3, 3, 3)\n",
    "plt.title(\"INFLATION\")\n",
    "plt.boxplot(k_selected['inflation'], patch_artist=True)\n",
    "plt.axhline(8.79, color='black', lw=.5)\n",
    "\n",
    "\n",
    "\n",
    "plt.show()"
   ]
  },
  {
   "cell_type": "markdown",
   "metadata": {},
   "source": [
    "#### 12) We see some outliers within GDPP and data is skewed up, so we will have to remove them before we finalize on countries"
   ]
  },
  {
   "cell_type": "code",
   "execution_count": 47,
   "metadata": {},
   "outputs": [
    {
     "data": {
      "text/plain": [
       "{'whiskers': [<matplotlib.lines.Line2D at 0x1a21703b00>,\n",
       "  <matplotlib.lines.Line2D at 0x1a217a80b8>],\n",
       " 'caps': [<matplotlib.lines.Line2D at 0x1a217a84a8>,\n",
       "  <matplotlib.lines.Line2D at 0x1a217a88d0>],\n",
       " 'boxes': [<matplotlib.lines.Line2D at 0x1a21703d30>],\n",
       " 'medians': [<matplotlib.lines.Line2D at 0x1a217a8a58>],\n",
       " 'fliers': [<matplotlib.lines.Line2D at 0x1a217a8dd8>],\n",
       " 'means': []}"
      ]
     },
     "execution_count": 47,
     "metadata": {},
     "output_type": "execute_result"
    },
    {
     "data": {
      "image/png": "[encoded data removed]",
      "text/plain": [
       "<Figure size 432x288 with 1 Axes>"
      ]
     },
     "metadata": {
      "needs_background": "light"
     },
     "output_type": "display_data"
    }
   ],
   "source": [
    "# outlier treatment for gdpp\n",
    "Q1 = k_selected.gdpp.quantile(0.25)\n",
    "Q3 = k_selected.gdpp.quantile(0.75)\n",
    "IQR = Q3 - Q1\n",
    "dropped_kselected = k_selected[~((k_selected.gdpp >= Q1 - 1.5*IQR) & (k_selected.gdpp <= Q3 + 1.5*IQR))]\n",
    "k_selected = k_selected[(k_selected.gdpp >= Q1 - 1.5*IQR) & (k_selected.gdpp <= Q3 + 1.5*IQR)]\n",
    "plt.boxplot(k_selected.gdpp)"
   ]
  },
  {
   "cell_type": "code",
   "execution_count": 48,
   "metadata": {},
   "outputs": [
    {
     "data": {
      "text/plain": [
       "{'whiskers': [<matplotlib.lines.Line2D at 0x1a203f7c18>,\n",
       "  <matplotlib.lines.Line2D at 0x1a22499860>],\n",
       " 'caps': [<matplotlib.lines.Line2D at 0x1a22499940>,\n",
       "  <matplotlib.lines.Line2D at 0x1a22499eb8>],\n",
       " 'boxes': [<matplotlib.lines.Line2D at 0x1a203f7eb8>],\n",
       " 'medians': [<matplotlib.lines.Line2D at 0x1a22499128>],\n",
       " 'fliers': [<matplotlib.lines.Line2D at 0x1a224997f0>],\n",
       " 'means': []}"
      ]
     },
     "execution_count": 48,
     "metadata": {},
     "output_type": "execute_result"
    },
    {
     "data": {
      "image/png": "[encoded data removed]",
      "text/plain": [
       "<Figure size 432x288 with 1 Axes>"
      ]
     },
     "metadata": {
      "needs_background": "light"
     },
     "output_type": "display_data"
    }
   ],
   "source": [
    "# outlier treatment for gdpp\n",
    "Q1 = k_selected.gdpp.quantile(0.25)\n",
    "Q3 = k_selected.gdpp.quantile(0.75)\n",
    "IQR = Q3 - Q1\n",
    "dropped_kselected_2 = k_selected[~((k_selected.gdpp >= Q1 - 1.5*IQR) & (k_selected.gdpp <= Q3 + 1.5*IQR))]\n",
    "k_selected = k_selected[(k_selected.gdpp >= Q1 - 1.5*IQR) & (k_selected.gdpp <= Q3 + 1.5*IQR)]\n",
    "plt.boxplot(k_selected.gdpp)"
   ]
  },
  {
   "cell_type": "markdown",
   "metadata": {},
   "source": [
    "#### This looks good now, let's run the numbers again"
   ]
  },
  {
   "cell_type": "code",
   "execution_count": 49,
   "metadata": {},
   "outputs": [
    {
     "name": "stdout",
     "output_type": "stream",
     "text": [
      "**************** \n",
      "CHILD MORTALITY \n",
      "**************** \n",
      "MEAN 97.83513513513515\n",
      "MEDIAN 90.5\n",
      "1ST QUANTILE (Q1) 76.7\n",
      "2ND QUANTILE (Q2) 90.5\n",
      "3RD QUANTILE (Q3) 111.0\n",
      "4TH QUANTILE (Q4) 208.0\n",
      "**************** \n",
      "GDPP \n",
      "**************** \n",
      "MEAN 783.2972972972973\n",
      "MEDIAN 662.0\n",
      "1ST QUANTILE (Q1) 482.0\n",
      "2ND QUANTILE (Q2) 662.0\n",
      "3RD QUANTILE (Q3) 1140.0\n",
      "4TH QUANTILE (Q4)  1490.0\n",
      "**************** \n",
      "INFLATION \n",
      "**************** \n",
      "MEAN 8.497162162162164\n",
      "MEDIAN 6.81\n",
      "1ST QUANTILE (Q1) 2.97\n",
      "2ND QUANTILE (Q2) 6.81\n",
      "3RD QUANTILE (Q3) 12.1\n",
      "4TH QUANTILE (Q4)  23.6\n"
     ]
    }
   ],
   "source": [
    "print (\"**************** \")\n",
    "print (\"CHILD MORTALITY \")\n",
    "print (\"**************** \")\n",
    "print (\"MEAN\" , k_selected.child_mort.mean())\n",
    "print (\"MEDIAN\" , k_selected.child_mort.median())\n",
    "print (\"1ST QUANTILE (Q1)\" , k_selected.child_mort.quantile(0.25))\n",
    "# Median same as Q2\n",
    "print (\"2ND QUANTILE (Q2)\" , k_selected.child_mort.quantile(0.50))\n",
    "print (\"3RD QUANTILE (Q3)\" , k_selected.child_mort.quantile(0.75))\n",
    "print (\"4TH QUANTILE (Q4)\" , k_selected.child_mort.quantile(1))\n",
    "\n",
    "print (\"**************** \")\n",
    "print (\"GDPP \")\n",
    "print (\"**************** \")\n",
    "print (\"MEAN\" , k_selected.gdpp.mean())\n",
    "print (\"MEDIAN\" , k_selected.gdpp.median())\n",
    "print (\"1ST QUANTILE (Q1)\" , k_selected.gdpp.quantile(0.25))\n",
    "print (\"2ND QUANTILE (Q2)\" , k_selected.gdpp.quantile(0.50))\n",
    "# Median same as Q2\n",
    "print (\"3RD QUANTILE (Q3)\" , k_selected.gdpp.quantile(0.75))\n",
    "print (\"4TH QUANTILE (Q4) \" , k_selected.gdpp.quantile(1))\n",
    "\n",
    "\n",
    "\n",
    "print (\"**************** \")\n",
    "print (\"INFLATION \")\n",
    "print (\"**************** \")\n",
    "print (\"MEAN\" , k_selected.inflation.mean())\n",
    "print (\"MEDIAN\" , k_selected.inflation.median())\n",
    "print (\"1ST QUANTILE (Q1)\" , k_selected.inflation.quantile(0.25))\n",
    "print (\"2ND QUANTILE (Q2)\" , k_selected.inflation.quantile(0.50))\n",
    "# Median same as Q2\n",
    "print (\"3RD QUANTILE (Q3)\" , k_selected.inflation.quantile(0.75))\n",
    "print (\"4TH QUANTILE (Q4) \" , k_selected.inflation.quantile(1))"
   ]
  },
  {
   "cell_type": "markdown",
   "metadata": {},
   "source": [
    "#### 13)  Let's pick all countries with child mortality >  90.5 (Q2/median) , GDPP < 482.0  (Q1) and inflation >6.81 (Q2/median) . This is in line with the requirement that countries in direst need of the aid should be helped and the plots reveal that these columns represent the most pressing needs of the poorest countries"
   ]
  },
  {
   "cell_type": "code",
   "execution_count": 50,
   "metadata": {},
   "outputs": [],
   "source": [
    "k_selected_poor = k_selected.loc[(k_selected['child_mort'] >  90.5 )\n",
    "                                & (k_selected['gdpp'] < 482.0)\n",
    "                                & (k_selected['inflation'] > 6.81)] \n",
    "k_selected_poor = k_selected_poor.drop(['PC1', 'PC2', 'PC3' , 'PC4'], axis = 1)"
   ]
  },
  {
   "cell_type": "code",
   "execution_count": 51,
   "metadata": {
    "scrolled": true
   },
   "outputs": [
    {
     "data": {
      "text/html": [
       "<div>\n",
       "<style scoped>\n",
       "    .dataframe tbody tr th:only-of-type {\n",
       "        vertical-align: middle;\n",
       "    }\n",
       "\n",
       "    .dataframe tbody tr th {\n",
       "        vertical-align: top;\n",
       "    }\n",
       "\n",
       "    .dataframe thead th {\n",
       "        text-align: right;\n",
       "    }\n",
       "</style>\n",
       "<table border=\"1\" class=\"dataframe\">\n",
       "  <thead>\n",
       "    <tr style=\"text-align: right;\">\n",
       "      <th></th>\n",
       "      <th>country</th>\n",
       "      <th>ClusterID</th>\n",
       "      <th>child_mort</th>\n",
       "      <th>exports</th>\n",
       "      <th>health</th>\n",
       "      <th>imports</th>\n",
       "      <th>income</th>\n",
       "      <th>inflation</th>\n",
       "      <th>life_expec</th>\n",
       "      <th>total_fer</th>\n",
       "      <th>gdpp</th>\n",
       "    </tr>\n",
       "  </thead>\n",
       "  <tbody>\n",
       "    <tr>\n",
       "      <th>26</th>\n",
       "      <td>BURUNDI</td>\n",
       "      <td>1</td>\n",
       "      <td>93.6</td>\n",
       "      <td>8.92</td>\n",
       "      <td>11.60</td>\n",
       "      <td>39.2</td>\n",
       "      <td>764</td>\n",
       "      <td>12.30</td>\n",
       "      <td>57.7</td>\n",
       "      <td>6.26</td>\n",
       "      <td>231</td>\n",
       "    </tr>\n",
       "    <tr>\n",
       "      <th>37</th>\n",
       "      <td>CONGO, DEM. REP.</td>\n",
       "      <td>1</td>\n",
       "      <td>116.0</td>\n",
       "      <td>41.10</td>\n",
       "      <td>7.91</td>\n",
       "      <td>49.6</td>\n",
       "      <td>609</td>\n",
       "      <td>20.80</td>\n",
       "      <td>57.5</td>\n",
       "      <td>6.54</td>\n",
       "      <td>334</td>\n",
       "    </tr>\n",
       "    <tr>\n",
       "      <th>106</th>\n",
       "      <td>MOZAMBIQUE</td>\n",
       "      <td>1</td>\n",
       "      <td>101.0</td>\n",
       "      <td>31.50</td>\n",
       "      <td>5.21</td>\n",
       "      <td>46.2</td>\n",
       "      <td>918</td>\n",
       "      <td>7.64</td>\n",
       "      <td>54.5</td>\n",
       "      <td>5.56</td>\n",
       "      <td>419</td>\n",
       "    </tr>\n",
       "    <tr>\n",
       "      <th>132</th>\n",
       "      <td>SIERRA LEONE</td>\n",
       "      <td>1</td>\n",
       "      <td>160.0</td>\n",
       "      <td>16.80</td>\n",
       "      <td>13.10</td>\n",
       "      <td>34.5</td>\n",
       "      <td>1220</td>\n",
       "      <td>17.20</td>\n",
       "      <td>55.0</td>\n",
       "      <td>5.20</td>\n",
       "      <td>399</td>\n",
       "    </tr>\n",
       "  </tbody>\n",
       "</table>\n",
       "</div>"
      ],
      "text/plain": [
       "              country  ClusterID  child_mort  exports  health  imports  \\\n",
       "26            BURUNDI          1        93.6     8.92   11.60     39.2   \n",
       "37   CONGO, DEM. REP.          1       116.0    41.10    7.91     49.6   \n",
       "106        MOZAMBIQUE          1       101.0    31.50    5.21     46.2   \n",
       "132      SIERRA LEONE          1       160.0    16.80   13.10     34.5   \n",
       "\n",
       "     income  inflation  life_expec  total_fer  gdpp  \n",
       "26      764      12.30        57.7       6.26   231  \n",
       "37      609      20.80        57.5       6.54   334  \n",
       "106     918       7.64        54.5       5.56   419  \n",
       "132    1220      17.20        55.0       5.20   399  "
      ]
     },
     "execution_count": 51,
     "metadata": {},
     "output_type": "execute_result"
    }
   ],
   "source": [
    "k_selected_poor"
   ]
  },
  {
   "cell_type": "markdown",
   "metadata": {},
   "source": [
    "#### 14) As per K-means clustering, 4 Countries in direst need of the aid are given below ; incidentally all four are African countries\n",
    "\n",
    "1) `BURUNDI` <br>\n",
    "2) `CONGO, DEM. REP.` <br>\n",
    "3) `MOZAMBIQUE` <br>\n",
    "4) `SIERRA LEONE` <br>"
   ]
  },
  {
   "cell_type": "code",
   "execution_count": 52,
   "metadata": {},
   "outputs": [
    {
     "data": {
      "text/html": [
       "<div>\n",
       "<style scoped>\n",
       "    .dataframe tbody tr th:only-of-type {\n",
       "        vertical-align: middle;\n",
       "    }\n",
       "\n",
       "    .dataframe tbody tr th {\n",
       "        vertical-align: top;\n",
       "    }\n",
       "\n",
       "    .dataframe thead th {\n",
       "        text-align: right;\n",
       "    }\n",
       "</style>\n",
       "<table border=\"1\" class=\"dataframe\">\n",
       "  <thead>\n",
       "    <tr style=\"text-align: right;\">\n",
       "      <th></th>\n",
       "      <th>PC1</th>\n",
       "      <th>PC2</th>\n",
       "      <th>PC3</th>\n",
       "      <th>PC4</th>\n",
       "    </tr>\n",
       "  </thead>\n",
       "  <tbody>\n",
       "    <tr>\n",
       "      <th>0</th>\n",
       "      <td>-2.913787</td>\n",
       "      <td>0.088354</td>\n",
       "      <td>0.721003</td>\n",
       "      <td>0.996699</td>\n",
       "    </tr>\n",
       "    <tr>\n",
       "      <th>1</th>\n",
       "      <td>0.429358</td>\n",
       "      <td>-0.587859</td>\n",
       "      <td>0.321052</td>\n",
       "      <td>-1.171193</td>\n",
       "    </tr>\n",
       "    <tr>\n",
       "      <th>2</th>\n",
       "      <td>-0.282988</td>\n",
       "      <td>-0.446657</td>\n",
       "      <td>-1.225135</td>\n",
       "      <td>-0.850127</td>\n",
       "    </tr>\n",
       "    <tr>\n",
       "      <th>3</th>\n",
       "      <td>-2.930969</td>\n",
       "      <td>1.699437</td>\n",
       "      <td>-1.521734</td>\n",
       "      <td>0.875966</td>\n",
       "    </tr>\n",
       "    <tr>\n",
       "      <th>4</th>\n",
       "      <td>1.031988</td>\n",
       "      <td>0.130488</td>\n",
       "      <td>0.192922</td>\n",
       "      <td>-0.844808</td>\n",
       "    </tr>\n",
       "  </tbody>\n",
       "</table>\n",
       "</div>"
      ],
      "text/plain": [
       "        PC1       PC2       PC3       PC4\n",
       "0 -2.913787  0.088354  0.721003  0.996699\n",
       "1  0.429358 -0.587859  0.321052 -1.171193\n",
       "2 -0.282988 -0.446657 -1.225135 -0.850127\n",
       "3 -2.930969  1.699437 -1.521734  0.875966\n",
       "4  1.031988  0.130488  0.192922 -0.844808"
      ]
     },
     "execution_count": 52,
     "metadata": {},
     "output_type": "execute_result"
    }
   ],
   "source": [
    "df_pca.head()"
   ]
  },
  {
   "cell_type": "markdown",
   "metadata": {},
   "source": [
    "#### 15) Perform Hierarchical Clustering "
   ]
  },
  {
   "cell_type": "code",
   "execution_count": 53,
   "metadata": {},
   "outputs": [
    {
     "data": {
      "image/png": "[encoded data removed]",
      "text/plain": [
       "<Figure size 720x720 with 1 Axes>"
      ]
     },
     "metadata": {
      "needs_background": "light"
     },
     "output_type": "display_data"
    }
   ],
   "source": [
    "plt.figure(1 , figsize=(10, 10))\n",
    "\n",
    "\n",
    "mergings = linkage(df_pca, method = \"complete\", metric='euclidean')\n",
    "dendrogram(mergings)\n",
    "plt.show()"
   ]
  },
  {
   "cell_type": "markdown",
   "metadata": {},
   "source": [
    "#### 16) Cut Dendrograms at the longest line i.e. at  `8` and concatenate with the original data frame"
   ]
  },
  {
   "cell_type": "code",
   "execution_count": 54,
   "metadata": {},
   "outputs": [],
   "source": [
    "clusterCut = pd.Series(cut_tree(mergings, n_clusters = 8).reshape(-1,))\n",
    "ngo_hfinal = pd.concat([country_frame , clusterCut  , ngo_orig] , axis = 1)\n",
    "ngo_hfinal.columns = [ 'country' , 'ClusterID', 'child_mort',    'exports',     'health',    'imports',\n",
    "           'income',  'inflation', 'life_expec',  'total_fer',       'gdpp']"
   ]
  },
  {
   "cell_type": "code",
   "execution_count": 55,
   "metadata": {},
   "outputs": [
    {
     "name": "stdout",
     "output_type": "stream",
     "text": [
      "           country\n",
      "ClusterID         \n",
      "0               25\n",
      "1               81\n",
      "2               25\n",
      "3               20\n",
      "4               11\n",
      "5                2\n",
      "6                2\n",
      "7                1\n"
     ]
    }
   ],
   "source": [
    "print(pd.DataFrame(ngo_hfinal.groupby([\"ClusterID\"]).country.count()))"
   ]
  },
  {
   "cell_type": "markdown",
   "metadata": {},
   "source": [
    "#### 17) Compute `Mean` for all the original dataframe columns and plot them to analyze and pick the best cluster around"
   ]
  },
  {
   "cell_type": "code",
   "execution_count": 56,
   "metadata": {},
   "outputs": [
    {
     "data": {
      "text/html": [
       "<div>\n",
       "<style scoped>\n",
       "    .dataframe tbody tr th:only-of-type {\n",
       "        vertical-align: middle;\n",
       "    }\n",
       "\n",
       "    .dataframe tbody tr th {\n",
       "        vertical-align: top;\n",
       "    }\n",
       "\n",
       "    .dataframe thead th {\n",
       "        text-align: right;\n",
       "    }\n",
       "</style>\n",
       "<table border=\"1\" class=\"dataframe\">\n",
       "  <thead>\n",
       "    <tr style=\"text-align: right;\">\n",
       "      <th></th>\n",
       "      <th>ClusterID</th>\n",
       "      <th>cluster_child_mort</th>\n",
       "      <th>cluster_exports</th>\n",
       "      <th>cluster_health</th>\n",
       "      <th>cluster_imports</th>\n",
       "      <th>cluster_income</th>\n",
       "      <th>cluster_inflation</th>\n",
       "      <th>cluster_life_expec</th>\n",
       "      <th>cluster_total_fer</th>\n",
       "      <th>cluster_gdpp</th>\n",
       "    </tr>\n",
       "  </thead>\n",
       "  <tbody>\n",
       "    <tr>\n",
       "      <th>0</th>\n",
       "      <td>0</td>\n",
       "      <td>107.144000</td>\n",
       "      <td>23.244800</td>\n",
       "      <td>7.682400</td>\n",
       "      <td>46.272000</td>\n",
       "      <td>1629.720000</td>\n",
       "      <td>7.428600</td>\n",
       "      <td>56.056000</td>\n",
       "      <td>5.318800</td>\n",
       "      <td>787.240000</td>\n",
       "    </tr>\n",
       "    <tr>\n",
       "      <th>1</th>\n",
       "      <td>1</td>\n",
       "      <td>22.485185</td>\n",
       "      <td>37.924432</td>\n",
       "      <td>6.305185</td>\n",
       "      <td>43.689702</td>\n",
       "      <td>12657.160494</td>\n",
       "      <td>8.032272</td>\n",
       "      <td>73.307407</td>\n",
       "      <td>2.316667</td>\n",
       "      <td>7282.592593</td>\n",
       "    </tr>\n",
       "    <tr>\n",
       "      <th>2</th>\n",
       "      <td>2</td>\n",
       "      <td>61.764000</td>\n",
       "      <td>44.152000</td>\n",
       "      <td>5.517200</td>\n",
       "      <td>53.876000</td>\n",
       "      <td>6145.600000</td>\n",
       "      <td>8.940800</td>\n",
       "      <td>63.608000</td>\n",
       "      <td>3.978800</td>\n",
       "      <td>2980.520000</td>\n",
       "    </tr>\n",
       "    <tr>\n",
       "      <th>3</th>\n",
       "      <td>3</td>\n",
       "      <td>4.280000</td>\n",
       "      <td>34.270000</td>\n",
       "      <td>10.501000</td>\n",
       "      <td>32.745000</td>\n",
       "      <td>39690.000000</td>\n",
       "      <td>1.559750</td>\n",
       "      <td>80.970000</td>\n",
       "      <td>1.797500</td>\n",
       "      <td>45060.000000</td>\n",
       "    </tr>\n",
       "    <tr>\n",
       "      <th>4</th>\n",
       "      <td>4</td>\n",
       "      <td>9.518182</td>\n",
       "      <td>70.536364</td>\n",
       "      <td>5.330909</td>\n",
       "      <td>48.890909</td>\n",
       "      <td>57463.636364</td>\n",
       "      <td>9.211636</td>\n",
       "      <td>77.790909</td>\n",
       "      <td>2.192727</td>\n",
       "      <td>35809.090909</td>\n",
       "    </tr>\n",
       "  </tbody>\n",
       "</table>\n",
       "</div>"
      ],
      "text/plain": [
       "   ClusterID  cluster_child_mort  cluster_exports  cluster_health  \\\n",
       "0          0          107.144000        23.244800        7.682400   \n",
       "1          1           22.485185        37.924432        6.305185   \n",
       "2          2           61.764000        44.152000        5.517200   \n",
       "3          3            4.280000        34.270000       10.501000   \n",
       "4          4            9.518182        70.536364        5.330909   \n",
       "\n",
       "   cluster_imports  cluster_income  cluster_inflation  cluster_life_expec  \\\n",
       "0        46.272000     1629.720000           7.428600           56.056000   \n",
       "1        43.689702    12657.160494           8.032272           73.307407   \n",
       "2        53.876000     6145.600000           8.940800           63.608000   \n",
       "3        32.745000    39690.000000           1.559750           80.970000   \n",
       "4        48.890909    57463.636364           9.211636           77.790909   \n",
       "\n",
       "   cluster_total_fer  cluster_gdpp  \n",
       "0           5.318800    787.240000  \n",
       "1           2.316667   7282.592593  \n",
       "2           3.978800   2980.520000  \n",
       "3           1.797500  45060.000000  \n",
       "4           2.192727  35809.090909  "
      ]
     },
     "execution_count": 56,
     "metadata": {},
     "output_type": "execute_result"
    }
   ],
   "source": [
    "cluster_child_mort = pd.DataFrame(ngo_hfinal.groupby([\"ClusterID\"]).child_mort.mean())\n",
    "cluster_exports = pd.DataFrame(ngo_hfinal.groupby([\"ClusterID\"]).exports.mean())\n",
    "cluster_health = pd.DataFrame(ngo_hfinal.groupby([\"ClusterID\"]).health.mean())\n",
    "cluster_imports = pd.DataFrame(ngo_hfinal.groupby([\"ClusterID\"]).imports.mean())\n",
    "cluster_income = pd.DataFrame(ngo_hfinal.groupby([\"ClusterID\"]).income.mean())\n",
    "cluster_inflation = pd.DataFrame(ngo_hfinal.groupby([\"ClusterID\"]).inflation.mean())\n",
    "cluster_life_expec = pd.DataFrame(ngo_hfinal.groupby([\"ClusterID\"]).life_expec.mean())\n",
    "cluster_total_fer = pd.DataFrame(ngo_hfinal.groupby([\"ClusterID\"]).total_fer.mean())\n",
    "cluster_gdpp = pd.DataFrame(ngo_hfinal.groupby([\"ClusterID\"]).gdpp.mean())\n",
    "\n",
    "df_h = pd.concat([pd.Series([0,1,2,3,4,5,6,7]), cluster_child_mort, cluster_exports, cluster_health\n",
    "                ,cluster_imports, cluster_income , cluster_inflation, \n",
    "                cluster_life_expec , cluster_total_fer, cluster_gdpp ], axis=1)\n",
    "df_h.columns = [\"ClusterID\", \"cluster_child_mort\", 'cluster_exports', 'cluster_health'\n",
    "                ,'cluster_imports', 'cluster_income' , 'cluster_inflation', \n",
    "                'cluster_life_expec' , 'cluster_total_fer', 'cluster_gdpp']\n",
    "df_h.head()"
   ]
  },
  {
   "cell_type": "code",
   "execution_count": 57,
   "metadata": {},
   "outputs": [
    {
     "data": {
      "image/png": "[encoded data removed]",
      "text/plain": [
       "<Figure size 1440x720 with 9 Axes>"
      ]
     },
     "metadata": {
      "needs_background": "light"
     },
     "output_type": "display_data"
    }
   ],
   "source": [
    "plt.figure(figsize=(20, 10))\n",
    "plt.subplot(3,3,1)\n",
    "sns.barplot(x=df_h.ClusterID, y=df_h.cluster_child_mort )\n",
    "plt.subplot(3,3,2)\n",
    "sns.barplot(x=df_h.ClusterID, y=df_h.cluster_exports)\n",
    "plt.subplot(3,3,3)\n",
    "sns.barplot(x=df_h.ClusterID, y=df_h.cluster_health)\n",
    "plt.subplot(3,3,4)\n",
    "sns.barplot(x=df_h.ClusterID, y=df_h.cluster_imports)\n",
    "plt.subplot(3,3,5)\n",
    "sns.barplot(x=df_h.ClusterID, y=df_h.cluster_income)\n",
    "plt.subplot(3,3,6)\n",
    "sns.barplot(x=df_h.ClusterID, y=df_h.cluster_inflation)\n",
    "plt.subplot(3,3,7)\n",
    "sns.barplot(x=df_h.ClusterID, y=df_h.cluster_life_expec)\n",
    "plt.subplot(3,3,8)\n",
    "sns.barplot(x=df_h.ClusterID, y=df_h.cluster_total_fer)\n",
    "plt.subplot(3,3,9)\n",
    "sns.barplot(x=df_h.ClusterID, y=df_h.cluster_gdpp)\n",
    "\n",
    "plt.show()"
   ]
  },
  {
   "cell_type": "markdown",
   "metadata": {},
   "source": [
    "##### Result: As seen above, Cluster 0 is the one needing most attention due to the following reasons: <br>\n",
    "1) GDPP is least as compared to other countries <br>\n",
    "2) Income is the least as compared to all other clusters <br>\n",
    "4) Total fertility rates are high in clusters 0 and 7 but 0 tops as per first two points above(uncontrolled population growth) <br>\n",
    "5) Life expectancy rates are least in clusters 0 and 7 but 0 tops as per first two points above(uncontrolled population growth) <br>"
   ]
  },
  {
   "cell_type": "code",
   "execution_count": 58,
   "metadata": {},
   "outputs": [],
   "source": [
    "h_selected = ngo_hfinal.loc[(ngo_hfinal['ClusterID']==0)]"
   ]
  },
  {
   "cell_type": "code",
   "execution_count": 59,
   "metadata": {},
   "outputs": [
    {
     "data": {
      "image/png": "[encoded data removed]",
      "text/plain": [
       "<Figure size 1440x720 with 12 Axes>"
      ]
     },
     "metadata": {
      "needs_background": "light"
     },
     "output_type": "display_data"
    }
   ],
   "source": [
    "plt.figure(figsize=(20, 10))\n",
    "plt.subplot(2,3,1)\n",
    "sctr = plt.scatter(ngo_hfinal['imports'], ngo_hfinal['exports'], c=ngo_hfinal['ClusterID'])\n",
    "plt.xlabel(\"imports\")\n",
    "plt.ylabel(\"exports\")\n",
    "plt.colorbar(sctr, format='Cluster: %d')\n",
    "\n",
    "plt.subplot(2,3,2)\n",
    "plt.scatter(ngo_hfinal['child_mort'], ngo_hfinal['life_expec'], c=ngo_hfinal['ClusterID'])\n",
    "plt.xlabel(\"child_mort\")\n",
    "plt.ylabel(\"life_expec\")\n",
    "plt.colorbar(sctr, format='Cluster: %d')\n",
    "\n",
    "\n",
    "plt.subplot(2,3,3)\n",
    "plt.scatter(ngo_hfinal['income'], ngo_hfinal['inflation'], c=ngo_hfinal['ClusterID'])\n",
    "plt.xlabel(\"income\")\n",
    "plt.ylabel(\"inflation\")\n",
    "plt.colorbar(sctr, format='Cluster: %d')\n",
    "\n",
    "\n",
    "plt.subplot(2,3,4)\n",
    "plt.scatter(ngo_hfinal['health'], ngo_hfinal['total_fer'], c=ngo_hfinal['ClusterID'])\n",
    "plt.xlabel(\"health\")\n",
    "plt.ylabel(\"total_fer\")\n",
    "plt.colorbar(sctr, format='Cluster: %d')\n",
    "\n",
    "\n",
    "plt.subplot(2,3,5)\n",
    "plt.scatter(ngo_hfinal['total_fer'], ngo_hfinal['life_expec'], c=ngo_hfinal['ClusterID'])\n",
    "plt.xlabel(\"total_fer\")\n",
    "plt.ylabel(\"life_expec\")\n",
    "plt.colorbar(sctr, format='Cluster: %d')\n",
    "\n",
    "\n",
    "plt.subplot(2,3,6)\n",
    "plt.scatter(ngo_hfinal['income'], ngo_hfinal['life_expec'], c=ngo_hfinal['ClusterID'])\n",
    "plt.xlabel(\"income\")\n",
    "plt.ylabel(\"life_expec\")\n",
    "plt.colorbar(sctr, format='Cluster: %d')\n",
    "\n",
    "\n",
    "plt.show()"
   ]
  },
  {
   "cell_type": "markdown",
   "metadata": {},
   "source": [
    "#### 18) Derive Mean, Q1, Q2, Q3 and Q4 of important variables "
   ]
  },
  {
   "cell_type": "code",
   "execution_count": 60,
   "metadata": {},
   "outputs": [
    {
     "name": "stdout",
     "output_type": "stream",
     "text": [
      "**************** \n",
      "CHILD MORTALITY \n",
      "**************** \n",
      "MEAN 107.14399999999999\n",
      "MEDIAN 108.0\n",
      "1ST QUANTILE (Q1) 89.3\n",
      "2ND QUANTILE (Q2) 108.0\n",
      "3RD QUANTILE (Q3) 116.0\n",
      "4TH QUANTILE (Q4) 208.0\n",
      "**************** \n",
      "GDPP \n",
      "**************** \n",
      "MEAN 787.24\n",
      "MEDIAN 595.0\n",
      "1ST QUANTILE (Q1) 446.0\n",
      "2ND QUANTILE (Q2) 595.0\n",
      "3RD QUANTILE (Q3) 897.0\n",
      "4TH QUANTILE (Q4)  2860.0\n",
      "**************** \n",
      "INFLATION \n",
      "**************** \n",
      "MEAN 7.4286\n",
      "MEDIAN 5.47\n",
      "1ST QUANTILE (Q1) 2.97\n",
      "2ND QUANTILE (Q2) 5.47\n",
      "3RD QUANTILE (Q3) 10.6\n",
      "4TH QUANTILE (Q4)  20.8\n"
     ]
    }
   ],
   "source": [
    "print (\"**************** \")\n",
    "print (\"CHILD MORTALITY \")\n",
    "print (\"**************** \")\n",
    "print (\"MEAN\" , h_selected.child_mort.mean())\n",
    "print (\"MEDIAN\" , h_selected.child_mort.median())\n",
    "print (\"1ST QUANTILE (Q1)\" , h_selected.child_mort.quantile(0.25))\n",
    "# Median same as Q2\n",
    "print (\"2ND QUANTILE (Q2)\" , h_selected.child_mort.quantile(0.50))\n",
    "print (\"3RD QUANTILE (Q3)\" , h_selected.child_mort.quantile(0.75))\n",
    "print (\"4TH QUANTILE (Q4)\" , h_selected.child_mort.quantile(1))\n",
    "\n",
    "print (\"**************** \")\n",
    "print (\"GDPP \")\n",
    "print (\"**************** \")\n",
    "print (\"MEAN\" , h_selected.gdpp.mean())\n",
    "print (\"MEDIAN\" , h_selected.gdpp.median())\n",
    "print (\"1ST QUANTILE (Q1)\" , h_selected.gdpp.quantile(0.25))\n",
    "print (\"2ND QUANTILE (Q2)\" , h_selected.gdpp.quantile(0.50))\n",
    "# Median same as Q2\n",
    "print (\"3RD QUANTILE (Q3)\" , h_selected.gdpp.quantile(0.75))\n",
    "print (\"4TH QUANTILE (Q4) \" , h_selected.gdpp.quantile(1))\n",
    "\n",
    "\n",
    "\n",
    "print (\"**************** \")\n",
    "print (\"INFLATION \")\n",
    "print (\"**************** \")\n",
    "print (\"MEAN\" , h_selected.inflation.mean())\n",
    "print (\"MEDIAN\" , h_selected.inflation.median())\n",
    "print (\"1ST QUANTILE (Q1)\" , h_selected.inflation.quantile(0.25))\n",
    "print (\"2ND QUANTILE (Q2)\" , h_selected.inflation.quantile(0.50))\n",
    "# Median same as Q2\n",
    "print (\"3RD QUANTILE (Q3)\" , h_selected.inflation.quantile(0.75))\n",
    "print (\"4TH QUANTILE (Q4) \" , h_selected.inflation.quantile(1))"
   ]
  },
  {
   "cell_type": "code",
   "execution_count": 61,
   "metadata": {},
   "outputs": [
    {
     "data": {
      "image/png": "[encoded data removed]",
      "text/plain": [
       "<Figure size 1080x1080 with 3 Axes>"
      ]
     },
     "metadata": {
      "needs_background": "light"
     },
     "output_type": "display_data"
    }
   ],
   "source": [
    "plt.figure(1 , figsize=(15, 15))\n",
    "\n",
    "#Syntax for Reference line \"axhline\" snf \"patch_artist\" is sourced from https://matplotlib.org\n",
    "\n",
    "# subplot 1\n",
    "plt.subplot(3, 3, 1)\n",
    "plt.title(\"CHILD MORTALITY\")\n",
    "plt.boxplot(h_selected['child_mort'] , patch_artist=True)\n",
    "plt.axhline(108, color='black', lw=.5)\n",
    "\n",
    "\n",
    "\n",
    "# subplot 2 \n",
    "plt.subplot(3, 3, 2)\n",
    "plt.title(\"GDPP\")\n",
    "plt.boxplot(h_selected['gdpp'], patch_artist=True)\n",
    "plt.axhline(595, color='black', lw=.5)\n",
    "\n",
    "\n",
    "\n",
    "# subplot 2 \n",
    "plt.subplot(3, 3, 3)\n",
    "plt.title(\"INFLATION\")\n",
    "plt.boxplot(h_selected['inflation'], patch_artist=True)\n",
    "plt.axhline(5.47, color='black', lw=.5)\n",
    "\n",
    "\n",
    "\n",
    "plt.show()"
   ]
  },
  {
   "cell_type": "markdown",
   "metadata": {},
   "source": [
    "#### Let's remove outliers within GDPP and data is skewed up, so we will have to remove them before we finalize on countries"
   ]
  },
  {
   "cell_type": "code",
   "execution_count": 62,
   "metadata": {},
   "outputs": [
    {
     "data": {
      "text/plain": [
       "{'whiskers': [<matplotlib.lines.Line2D at 0x1a237fd240>,\n",
       "  <matplotlib.lines.Line2D at 0x1a237fd588>],\n",
       " 'caps': [<matplotlib.lines.Line2D at 0x1a237fd8d0>,\n",
       "  <matplotlib.lines.Line2D at 0x1a237fdc18>],\n",
       " 'boxes': [<matplotlib.lines.Line2D at 0x1a237fd0f0>],\n",
       " 'medians': [<matplotlib.lines.Line2D at 0x1a237fdf60>],\n",
       " 'fliers': [<matplotlib.lines.Line2D at 0x1a238082e8>],\n",
       " 'means': []}"
      ]
     },
     "execution_count": 62,
     "metadata": {},
     "output_type": "execute_result"
    },
    {
     "data": {
      "image/png": "[encoded data removed]",
      "text/plain": [
       "<Figure size 432x288 with 1 Axes>"
      ]
     },
     "metadata": {
      "needs_background": "light"
     },
     "output_type": "display_data"
    }
   ],
   "source": [
    "# outlier treatment for gdpp\n",
    "Q1 = h_selected.gdpp.quantile(0.25)\n",
    "Q3 = h_selected.gdpp.quantile(0.75)\n",
    "IQR = Q3 - Q1\n",
    "dropped_hselected = h_selected[~((h_selected.gdpp >= Q1 - 1.5*IQR) & (h_selected.gdpp <= Q3 + 1.5*IQR))]\n",
    "h_selected = h_selected[(h_selected.gdpp >= Q1 - 1.5*IQR) & (h_selected.gdpp <= Q3 + 1.5*IQR)]\n",
    "plt.boxplot(h_selected.gdpp)"
   ]
  },
  {
   "cell_type": "code",
   "execution_count": 63,
   "metadata": {},
   "outputs": [
    {
     "data": {
      "text/plain": [
       "{'whiskers': [<matplotlib.lines.Line2D at 0x1a2381c278>,\n",
       "  <matplotlib.lines.Line2D at 0x1a2381c5c0>],\n",
       " 'caps': [<matplotlib.lines.Line2D at 0x1a2381c908>,\n",
       "  <matplotlib.lines.Line2D at 0x1a2381cc50>],\n",
       " 'boxes': [<matplotlib.lines.Line2D at 0x1a2381c128>],\n",
       " 'medians': [<matplotlib.lines.Line2D at 0x1a2381cf98>],\n",
       " 'fliers': [<matplotlib.lines.Line2D at 0x1a23826320>],\n",
       " 'means': []}"
      ]
     },
     "execution_count": 63,
     "metadata": {},
     "output_type": "execute_result"
    },
    {
     "data": {
      "image/png": "[encoded data removed]",
      "text/plain": [
       "<Figure size 432x288 with 1 Axes>"
      ]
     },
     "metadata": {
      "needs_background": "light"
     },
     "output_type": "display_data"
    }
   ],
   "source": [
    "# outlier treatment for gdpp\n",
    "Q1 = h_selected.gdpp.quantile(0.25)\n",
    "Q3 = h_selected.gdpp.quantile(0.75)\n",
    "IQR = Q3 - Q1\n",
    "dropped_hselected2 = h_selected[~((h_selected.gdpp >= Q1 - 1.5*IQR) & (h_selected.gdpp <= Q3 + 1.5*IQR))]\n",
    "h_selected = h_selected[(h_selected.gdpp >= Q1 - 1.5*IQR) & (h_selected.gdpp <= Q3 + 1.5*IQR)]\n",
    "plt.boxplot(h_selected.gdpp)"
   ]
  },
  {
   "cell_type": "code",
   "execution_count": 64,
   "metadata": {},
   "outputs": [
    {
     "data": {
      "text/plain": [
       "{'whiskers': [<matplotlib.lines.Line2D at 0x1a23948dd8>,\n",
       "  <matplotlib.lines.Line2D at 0x1a23952160>],\n",
       " 'caps': [<matplotlib.lines.Line2D at 0x1a239524a8>,\n",
       "  <matplotlib.lines.Line2D at 0x1a239527f0>],\n",
       " 'boxes': [<matplotlib.lines.Line2D at 0x1a23948c88>],\n",
       " 'medians': [<matplotlib.lines.Line2D at 0x1a23952b38>],\n",
       " 'fliers': [<matplotlib.lines.Line2D at 0x1a23952e80>],\n",
       " 'means': []}"
      ]
     },
     "execution_count": 64,
     "metadata": {},
     "output_type": "execute_result"
    },
    {
     "data": {
      "image/png": "[encoded data removed]",
      "text/plain": [
       "<Figure size 432x288 with 1 Axes>"
      ]
     },
     "metadata": {
      "needs_background": "light"
     },
     "output_type": "display_data"
    }
   ],
   "source": [
    "# outlier treatment for gdpp\n",
    "Q1 = h_selected.gdpp.quantile(0.25)\n",
    "Q3 = h_selected.gdpp.quantile(0.75)\n",
    "IQR = Q3 - Q1\n",
    "dropped_hselected3 = h_selected[~((h_selected.gdpp >= Q1 - 1.5*IQR) & (h_selected.gdpp <= Q3 + 1.5*IQR))]\n",
    "h_selected = h_selected[(h_selected.gdpp >= Q1 - 1.5*IQR) & (h_selected.gdpp <= Q3 + 1.5*IQR)]\n",
    "plt.boxplot(h_selected.gdpp)"
   ]
  },
  {
   "cell_type": "markdown",
   "metadata": {},
   "source": [
    "#### This looks good now, let's run the numbers and plot again"
   ]
  },
  {
   "cell_type": "code",
   "execution_count": 65,
   "metadata": {},
   "outputs": [
    {
     "name": "stdout",
     "output_type": "stream",
     "text": [
      "**************** \n",
      "CHILD MORTALITY \n",
      "**************** \n",
      "MEAN 114.42631578947368\n",
      "MEDIAN 111.0\n",
      "1ST QUANTILE (Q1) 90.35\n",
      "2ND QUANTILE (Q2) 111.0\n",
      "3RD QUANTILE (Q3) 130.0\n",
      "4TH QUANTILE (Q4) 208.0\n",
      "**************** \n",
      "GDPP \n",
      "**************** \n",
      "MEAN 535.3157894736842\n",
      "MEDIAN 553.0\n",
      "1ST QUANTILE (Q1) 409.0\n",
      "2ND QUANTILE (Q2) 553.0\n",
      "3RD QUANTILE (Q3) 655.0\n",
      "4TH QUANTILE (Q4)  897.0\n",
      "**************** \n",
      "INFLATION \n",
      "**************** \n",
      "MEAN 8.155\n",
      "MEDIAN 6.81\n",
      "1ST QUANTILE (Q1) 3.67\n",
      "2ND QUANTILE (Q2) 6.81\n",
      "3RD QUANTILE (Q3) 11.35\n",
      "4TH QUANTILE (Q4)  20.8\n"
     ]
    }
   ],
   "source": [
    "print (\"**************** \")\n",
    "print (\"CHILD MORTALITY \")\n",
    "print (\"**************** \")\n",
    "print (\"MEAN\" , h_selected.child_mort.mean())\n",
    "print (\"MEDIAN\" , h_selected.child_mort.median())\n",
    "print (\"1ST QUANTILE (Q1)\" , h_selected.child_mort.quantile(0.25))\n",
    "# Median same as Q2\n",
    "print (\"2ND QUANTILE (Q2)\" , h_selected.child_mort.quantile(0.50))\n",
    "print (\"3RD QUANTILE (Q3)\" , h_selected.child_mort.quantile(0.75))\n",
    "print (\"4TH QUANTILE (Q4)\" , h_selected.child_mort.quantile(1))\n",
    "\n",
    "print (\"**************** \")\n",
    "print (\"GDPP \")\n",
    "print (\"**************** \")\n",
    "print (\"MEAN\" , h_selected.gdpp.mean())\n",
    "print (\"MEDIAN\" , h_selected.gdpp.median())\n",
    "print (\"1ST QUANTILE (Q1)\" , h_selected.gdpp.quantile(0.25))\n",
    "print (\"2ND QUANTILE (Q2)\" , h_selected.gdpp.quantile(0.50))\n",
    "# Median same as Q2\n",
    "print (\"3RD QUANTILE (Q3)\" , h_selected.gdpp.quantile(0.75))\n",
    "print (\"4TH QUANTILE (Q4) \" , h_selected.gdpp.quantile(1))\n",
    "\n",
    "\n",
    "\n",
    "print (\"**************** \")\n",
    "print (\"INFLATION \")\n",
    "print (\"**************** \")\n",
    "print (\"MEAN\" , h_selected.inflation.mean())\n",
    "print (\"MEDIAN\" , h_selected.inflation.median())\n",
    "print (\"1ST QUANTILE (Q1)\" , h_selected.inflation.quantile(0.25))\n",
    "print (\"2ND QUANTILE (Q2)\" , h_selected.inflation.quantile(0.50))\n",
    "# Median same as Q2\n",
    "print (\"3RD QUANTILE (Q3)\" , h_selected.inflation.quantile(0.75))\n",
    "print (\"4TH QUANTILE (Q4) \" , h_selected.inflation.quantile(1))"
   ]
  },
  {
   "cell_type": "code",
   "execution_count": 66,
   "metadata": {},
   "outputs": [
    {
     "data": {
      "image/png": "[encoded data removed]",
      "text/plain": [
       "<Figure size 1080x1080 with 3 Axes>"
      ]
     },
     "metadata": {
      "needs_background": "light"
     },
     "output_type": "display_data"
    }
   ],
   "source": [
    "plt.figure(1 , figsize=(15, 15))\n",
    "\n",
    "#Syntax for Reference line \"axhline\" snf \"patch_artist\" is sourced from https://matplotlib.org\n",
    "\n",
    "# subplot 1\n",
    "plt.subplot(3, 3, 1)\n",
    "plt.title(\"CHILD MORTALITY\")\n",
    "plt.boxplot(h_selected['child_mort'] , patch_artist=True)\n",
    "plt.axhline(111, color='black', lw=.5)\n",
    "\n",
    "\n",
    "\n",
    "# subplot 2 \n",
    "plt.subplot(3, 3, 2)\n",
    "plt.title(\"GDPP\")\n",
    "plt.boxplot(h_selected['gdpp'], patch_artist=True)\n",
    "plt.axhline(553, color='black', lw=.5)\n",
    "\n",
    "\n",
    "\n",
    "# subplot 2 \n",
    "plt.subplot(3, 3, 3)\n",
    "plt.title(\"INFLATION\")\n",
    "plt.boxplot(h_selected['inflation'], patch_artist=True)\n",
    "plt.axhline(6.81, color='black', lw=.5)\n",
    "\n",
    "\n",
    "\n",
    "plt.show()"
   ]
  },
  {
   "cell_type": "markdown",
   "metadata": {},
   "source": [
    "#### 19)  Let's pick all countries with child mortality >  90.5 (Q2/median) , GDPP < 482.0  (Q1) and inflation >6.81 (Q2/median) . This is in line with the requirement that countries in direst need of the aid should be helped and the plots reveal that these columns represent the most pressing needs of the poorest countries"
   ]
  },
  {
   "cell_type": "code",
   "execution_count": 67,
   "metadata": {},
   "outputs": [],
   "source": [
    "h_selected_poor = h_selected.loc[(h_selected['child_mort'] >  90.5 )\n",
    "                                & (h_selected['gdpp'] < 482.0)\n",
    "                                & (h_selected['inflation'] > 6.81)] "
   ]
  },
  {
   "cell_type": "code",
   "execution_count": 68,
   "metadata": {},
   "outputs": [
    {
     "data": {
      "text/html": [
       "<div>\n",
       "<style scoped>\n",
       "    .dataframe tbody tr th:only-of-type {\n",
       "        vertical-align: middle;\n",
       "    }\n",
       "\n",
       "    .dataframe tbody tr th {\n",
       "        vertical-align: top;\n",
       "    }\n",
       "\n",
       "    .dataframe thead th {\n",
       "        text-align: right;\n",
       "    }\n",
       "</style>\n",
       "<table border=\"1\" class=\"dataframe\">\n",
       "  <thead>\n",
       "    <tr style=\"text-align: right;\">\n",
       "      <th></th>\n",
       "      <th>country</th>\n",
       "      <th>ClusterID</th>\n",
       "      <th>child_mort</th>\n",
       "      <th>exports</th>\n",
       "      <th>health</th>\n",
       "      <th>imports</th>\n",
       "      <th>income</th>\n",
       "      <th>inflation</th>\n",
       "      <th>life_expec</th>\n",
       "      <th>total_fer</th>\n",
       "      <th>gdpp</th>\n",
       "    </tr>\n",
       "  </thead>\n",
       "  <tbody>\n",
       "    <tr>\n",
       "      <th>26</th>\n",
       "      <td>BURUNDI</td>\n",
       "      <td>0</td>\n",
       "      <td>93.6</td>\n",
       "      <td>8.92</td>\n",
       "      <td>11.60</td>\n",
       "      <td>39.2</td>\n",
       "      <td>764</td>\n",
       "      <td>12.30</td>\n",
       "      <td>57.7</td>\n",
       "      <td>6.26</td>\n",
       "      <td>231</td>\n",
       "    </tr>\n",
       "    <tr>\n",
       "      <th>37</th>\n",
       "      <td>CONGO, DEM. REP.</td>\n",
       "      <td>0</td>\n",
       "      <td>116.0</td>\n",
       "      <td>41.10</td>\n",
       "      <td>7.91</td>\n",
       "      <td>49.6</td>\n",
       "      <td>609</td>\n",
       "      <td>20.80</td>\n",
       "      <td>57.5</td>\n",
       "      <td>6.54</td>\n",
       "      <td>334</td>\n",
       "    </tr>\n",
       "    <tr>\n",
       "      <th>106</th>\n",
       "      <td>MOZAMBIQUE</td>\n",
       "      <td>0</td>\n",
       "      <td>101.0</td>\n",
       "      <td>31.50</td>\n",
       "      <td>5.21</td>\n",
       "      <td>46.2</td>\n",
       "      <td>918</td>\n",
       "      <td>7.64</td>\n",
       "      <td>54.5</td>\n",
       "      <td>5.56</td>\n",
       "      <td>419</td>\n",
       "    </tr>\n",
       "    <tr>\n",
       "      <th>132</th>\n",
       "      <td>SIERRA LEONE</td>\n",
       "      <td>0</td>\n",
       "      <td>160.0</td>\n",
       "      <td>16.80</td>\n",
       "      <td>13.10</td>\n",
       "      <td>34.5</td>\n",
       "      <td>1220</td>\n",
       "      <td>17.20</td>\n",
       "      <td>55.0</td>\n",
       "      <td>5.20</td>\n",
       "      <td>399</td>\n",
       "    </tr>\n",
       "  </tbody>\n",
       "</table>\n",
       "</div>"
      ],
      "text/plain": [
       "              country  ClusterID  child_mort  exports  health  imports  \\\n",
       "26            BURUNDI          0        93.6     8.92   11.60     39.2   \n",
       "37   CONGO, DEM. REP.          0       116.0    41.10    7.91     49.6   \n",
       "106        MOZAMBIQUE          0       101.0    31.50    5.21     46.2   \n",
       "132      SIERRA LEONE          0       160.0    16.80   13.10     34.5   \n",
       "\n",
       "     income  inflation  life_expec  total_fer  gdpp  \n",
       "26      764      12.30        57.7       6.26   231  \n",
       "37      609      20.80        57.5       6.54   334  \n",
       "106     918       7.64        54.5       5.56   419  \n",
       "132    1220      17.20        55.0       5.20   399  "
      ]
     },
     "execution_count": 68,
     "metadata": {},
     "output_type": "execute_result"
    }
   ],
   "source": [
    "h_selected_poor"
   ]
  },
  {
   "cell_type": "markdown",
   "metadata": {},
   "source": [
    "#### Summary\n",
    "\n",
    "`4 Poor countries that HELP has to immedeately focus are provided below ; incidentally all four are African countries` ; Incidentally, same results\n",
    "are obtained by using K-means clustering as well\n",
    "\n",
    "a) BURUNDI <br>\n",
    "b) CONGO, DEM. REP. <br>\n",
    "c) MOZAMBIQUE <br>\n",
    "d) SIERRA LEONE <br>"
   ]
  },
  {
   "cell_type": "code",
   "execution_count": 69,
   "metadata": {},
   "outputs": [
    {
     "name": "stdout",
     "output_type": "stream",
     "text": [
      "\n",
      "Time elasped:  0:00:11.853732\n"
     ]
    }
   ],
   "source": [
    "# End of code, print total time taken for execution\n",
    "print('\\nTime elasped: ', datetime.now() - startTime)\n",
    "#"
   ]
  }
 ],
 "metadata": {
  "kernelspec": {
   "display_name": "Python 3",
   "language": "python",
   "name": "python3"
  },
  "language_info": {
   "codemirror_mode": {
    "name": "ipython",
    "version": 3
   },
   "file_extension": ".py",
   "mimetype": "text/x-python",
   "name": "python",
   "nbconvert_exporter": "python",
   "pygments_lexer": "ipython3",
   "version": "3.6.9"
  }
 },
 "nbformat": 4,
 "nbformat_minor": 2
}
